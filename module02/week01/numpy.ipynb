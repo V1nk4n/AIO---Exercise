{
  "nbformat": 4,
  "nbformat_minor": 0,
  "metadata": {
    "colab": {
      "provenance": [],
      "gpuType": "T4"
    },
    "kernelspec": {
      "name": "python3",
      "display_name": "Python 3"
    },
    "language_info": {
      "name": "python"
    },
    "accelerator": "GPU"
  },
  "cells": [
    {
      "cell_type": "code",
      "source": [
        "# Download image\n",
        "!gdown 1i9dqan21DjQoG5Q_VEvm0LrVwAlXD0vB"
      ],
      "metadata": {
        "id": "ICWina69K42E",
        "colab": {
          "base_uri": "https://localhost:8080/"
        },
        "outputId": "05acccaf-c0f8-4290-959a-493af731b96c"
      },
      "execution_count": null,
      "outputs": [
        {
          "output_type": "stream",
          "name": "stdout",
          "text": [
            "Downloading...\n",
            "From: https://drive.google.com/uc?id=1i9dqan21DjQoG5Q_VEvm0LrVwAlXD0vB\n",
            "To: /content/dog.jpeg\n",
            "\r  0% 0.00/33.7k [00:00<?, ?B/s]\r100% 33.7k/33.7k [00:00<00:00, 46.4MB/s]\n"
          ]
        }
      ]
    },
    {
      "cell_type": "code",
      "execution_count": null,
      "metadata": {
        "colab": {
          "base_uri": "https://localhost:8080/"
        },
        "id": "iEgMiltPKCA4",
        "outputId": "9eef142f-02ec-4f1e-ced7-6b9b4ec70da1"
      },
      "outputs": [
        {
          "output_type": "execute_result",
          "data": {
            "text/plain": [
              "102.5"
            ]
          },
          "metadata": {},
          "execution_count": 3
        }
      ],
      "source": [
        "import matplotlib.image as mpimg\n",
        "import numpy as np\n",
        "img = mpimg.imread('/content/dog.jpeg')\n",
        "gray_img_01 = (np.max(img, axis=2) + np.min(img, axis=2))/2\n",
        "gray_img_01 [0, 0]"
      ]
    },
    {
      "cell_type": "code",
      "source": [
        "gray_img_02 = np.average(img, axis=2)\n",
        "gray_img_02[0 , 0]"
      ],
      "metadata": {
        "colab": {
          "base_uri": "https://localhost:8080/"
        },
        "id": "EQOVmPq9Dbch",
        "outputId": "567de127-3274-4fd0-82a2-92040c7f4441"
      },
      "execution_count": null,
      "outputs": [
        {
          "output_type": "execute_result",
          "data": {
            "text/plain": [
              "107.66666666666667"
            ]
          },
          "metadata": {},
          "execution_count": 4
        }
      ]
    },
    {
      "cell_type": "code",
      "source": [
        "gray_img_03 = img[:, :, 0]*0.21 + img[:, :, 1]*0.72 + img[:, :, 2]*0.07\n",
        "gray_img_03[0 , 0]"
      ],
      "metadata": {
        "colab": {
          "base_uri": "https://localhost:8080/"
        },
        "id": "8mfS9kTyEa0O",
        "outputId": "f34d3688-19bf-455d-93ee-15614913cd4b"
      },
      "execution_count": null,
      "outputs": [
        {
          "output_type": "execute_result",
          "data": {
            "text/plain": [
              "126.22999999999999"
            ]
          },
          "metadata": {},
          "execution_count": 5
        }
      ]
    },
    {
      "cell_type": "code",
      "source": [
        "# Download data\n",
        "!gdown 1iA0WmVfW88HyJvTBSQDI5vesf-pgKabq"
      ],
      "metadata": {
        "colab": {
          "base_uri": "https://localhost:8080/"
        },
        "id": "0qd8iXS3Gt0E",
        "outputId": "7b25782c-b621-4b1a-a273-2e71e57cff7c"
      },
      "execution_count": null,
      "outputs": [
        {
          "output_type": "stream",
          "name": "stdout",
          "text": [
            "Downloading...\n",
            "From: https://drive.google.com/uc?id=1iA0WmVfW88HyJvTBSQDI5vesf-pgKabq\n",
            "To: /content/advertising.csv\n",
            "\r  0% 0.00/4.06k [00:00<?, ?B/s]\r100% 4.06k/4.06k [00:00<00:00, 10.2MB/s]\n"
          ]
        }
      ]
    },
    {
      "cell_type": "code",
      "source": [
        "import pandas as pd\n",
        "df = pd.read_csv('/content/advertising.csv')\n",
        "\n",
        "data = df.to_numpy()"
      ],
      "metadata": {
        "id": "-89QXbVQGt2X"
      },
      "execution_count": null,
      "outputs": []
    },
    {
      "cell_type": "code",
      "source": [
        "sales = data[:, 3]\n",
        "max_value = np.max(sales)\n",
        "print(max_value)\n",
        "max_index = np.argmax(sales)\n",
        "print(max_index)\n"
      ],
      "metadata": {
        "colab": {
          "base_uri": "https://localhost:8080/"
        },
        "id": "Ycu9wWHPGt4Y",
        "outputId": "4047c6ef-6f08-4b60-9f2f-75d63d213a2e"
      },
      "execution_count": null,
      "outputs": [
        {
          "output_type": "stream",
          "name": "stdout",
          "text": [
            "27.0\n",
            "175\n"
          ]
        }
      ]
    },
    {
      "cell_type": "code",
      "source": [
        "tv = data[:, 0]\n",
        "np.average(tv)"
      ],
      "metadata": {
        "colab": {
          "base_uri": "https://localhost:8080/"
        },
        "id": "DjWafOZRJExS",
        "outputId": "961dfe23-21de-4073-b63b-b31183d354bb"
      },
      "execution_count": null,
      "outputs": [
        {
          "output_type": "execute_result",
          "data": {
            "text/plain": [
              "147.0425"
            ]
          },
          "metadata": {},
          "execution_count": 21
        }
      ]
    },
    {
      "cell_type": "code",
      "source": [
        "np.sum(sales >= 20)"
      ],
      "metadata": {
        "colab": {
          "base_uri": "https://localhost:8080/"
        },
        "id": "-j7ScysbJavm",
        "outputId": "199c5a0a-a0d7-4618-8b46-2d8fd98b6163"
      },
      "execution_count": null,
      "outputs": [
        {
          "output_type": "execute_result",
          "data": {
            "text/plain": [
              "40"
            ]
          },
          "metadata": {},
          "execution_count": 22
        }
      ]
    },
    {
      "cell_type": "code",
      "source": [
        "radio = data[:, 1]\n",
        "np.mean(radio[sales >= 15])"
      ],
      "metadata": {
        "colab": {
          "base_uri": "https://localhost:8080/"
        },
        "id": "dznKq6p-JsC7",
        "outputId": "05c5481e-1e4d-4d1e-d93c-8afccef01d12"
      },
      "execution_count": null,
      "outputs": [
        {
          "output_type": "execute_result",
          "data": {
            "text/plain": [
              "26.22293577981651"
            ]
          },
          "metadata": {},
          "execution_count": 27
        }
      ]
    },
    {
      "cell_type": "code",
      "source": [
        "newspaper = data[:, 2]\n",
        "avg_newspaper = np.mean(newspaper)\n",
        "mask = newspaper > avg_newspaper\n",
        "np.sum(newspaper[mask])"
      ],
      "metadata": {
        "colab": {
          "base_uri": "https://localhost:8080/"
        },
        "id": "S3Kmi9rdKnQO",
        "outputId": "b504fb9d-ceb0-4ab9-9802-5d8b48cb2348"
      },
      "execution_count": null,
      "outputs": [
        {
          "output_type": "execute_result",
          "data": {
            "text/plain": [
              "4452.3"
            ]
          },
          "metadata": {},
          "execution_count": 35
        }
      ]
    },
    {
      "cell_type": "code",
      "source": [
        "avg_sale = np.mean(sales)\n",
        "scores = np.zeros(sales.shape, dtype=str)\n",
        "scores[sales > avg_sale] = 'Good'\n",
        "scores[sales < avg_sale] = 'Bad'\n",
        "scores[sales == avg_sale] = 'Average'\n",
        "print(scores[7:10])"
      ],
      "metadata": {
        "colab": {
          "base_uri": "https://localhost:8080/"
        },
        "id": "qcJboocLLmC9",
        "outputId": "7eb7eb1b-efca-41cc-ccd8-b86cc6e66440"
      },
      "execution_count": null,
      "outputs": [
        {
          "output_type": "stream",
          "name": "stdout",
          "text": [
            "['B' 'B' 'G']\n"
          ]
        }
      ]
    },
    {
      "cell_type": "code",
      "source": [
        "A = sales[np.abs(sales - avg_sale).argmin()]\n",
        "\n",
        "scores = np.zeros(sales.shape, dtype=str)\n",
        "scores[sales > A] = 'Good'\n",
        "scores[sales < A] = 'Bad'\n",
        "scores[sales == A] = 'Average'\n",
        "print(scores[7:10])"
      ],
      "metadata": {
        "colab": {
          "base_uri": "https://localhost:8080/"
        },
        "id": "tUuk2-j3Mak6",
        "outputId": "b83062c2-c196-4de7-e176-b583279b48db"
      },
      "execution_count": null,
      "outputs": [
        {
          "output_type": "stream",
          "name": "stdout",
          "text": [
            "['B' 'B' 'G']\n"
          ]
        }
      ]
    }
  ]
}