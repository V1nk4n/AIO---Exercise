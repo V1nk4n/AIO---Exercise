{
  "nbformat": 4,
  "nbformat_minor": 0,
  "metadata": {
    "colab": {
      "provenance": []
    },
    "kernelspec": {
      "name": "python3",
      "display_name": "Python 3"
    },
    "language_info": {
      "name": "python"
    }
  },
  "cells": [
    {
      "cell_type": "code",
      "execution_count": 2,
      "metadata": {
        "colab": {
          "base_uri": "https://localhost:8080/"
        },
        "id": "V4YyA-E-zzMn",
        "outputId": "655c5739-997d-499c-b22c-83049764f1d9"
      },
      "outputs": [
        {
          "output_type": "stream",
          "name": "stdout",
          "text": [
            "[['Sunny' 'Hot' 'High' 'Weak' 'no']\n",
            " ['Sunny' 'Hot' 'High' 'Strong' 'no']\n",
            " ['Overcast' 'Hot' 'High' 'Weak' 'yes']\n",
            " ['Rain' 'Mild' 'High' 'Weak' 'yes']\n",
            " ['Rain' 'Cool' 'Normal' 'Weak' 'yes']\n",
            " ['Rain' 'Cool' 'Normal' 'Strong' 'no']\n",
            " ['Overcast' 'Cool' 'Normal' 'Strong' 'yes']\n",
            " ['Overcast' 'Mild' 'High' 'Weak' 'no']\n",
            " ['Sunny' 'Cool' 'Normal' 'Weak' 'yes']\n",
            " ['Rain' 'Mild' 'Normal' 'Weak' 'yes']]\n"
          ]
        }
      ],
      "source": [
        "import numpy as np\n",
        "\n",
        "def create_train_data():\n",
        "  data = [['Sunny', 'Hot', 'High', 'Weak', 'no'],\n",
        "          ['Sunny', 'Hot', 'High', 'Strong', 'no'],\n",
        "          ['Overcast', 'Hot', 'High', 'Weak', 'yes'],\n",
        "          ['Rain', 'Mild', 'High', 'Weak', 'yes'],\n",
        "          ['Rain', 'Cool', 'Normal', 'Weak', 'yes'],\n",
        "          ['Rain', 'Cool', 'Normal', 'Strong', 'no'],\n",
        "          ['Overcast', 'Cool', 'Normal', 'Strong', 'yes'],\n",
        "          ['Overcast', 'Mild', 'High', 'Weak', 'no'],\n",
        "          ['Sunny', 'Cool', 'Normal', 'Weak', 'yes'],\n",
        "          ['Rain', 'Mild', 'Normal', 'Weak', 'yes']]\n",
        "\n",
        "  return np.array(data)\n",
        "\n",
        "train_data = create_train_data()\n",
        "print(train_data)"
      ]
    },
    {
      "cell_type": "code",
      "source": [
        "def compute_prior_probablity(train_data):\n",
        "  y_unique = ['no', 'yes']\n",
        "  prior_probability = np.zeros(len(y_unique))\n",
        "\n",
        "  y_column = train_data[:,-1]\n",
        "\n",
        "  for i, value in enumerate(y_unique):\n",
        "        count = np.sum(y_column == value)\n",
        "        prior_probability[i] = count / len(y_column)\n",
        "\n",
        "  return prior_probability"
      ],
      "metadata": {
        "id": "fcfBYsaa1d1c"
      },
      "execution_count": 3,
      "outputs": []
    },
    {
      "cell_type": "code",
      "source": [
        "prior_probablity = compute_prior_probablity(train_data)\n",
        "print(\"P(play tennis = No)\" , prior_probablity[0])\n",
        "print (\"P(play tennis = Yes)\" , prior_probablity[1])"
      ],
      "metadata": {
        "colab": {
          "base_uri": "https://localhost:8080/"
        },
        "id": "EDiSLmd14_MA",
        "outputId": "0a599cf4-2ff5-43bd-8779-8d0a792204a1"
      },
      "execution_count": 4,
      "outputs": [
        {
          "output_type": "stream",
          "name": "stdout",
          "text": [
            "P(play tennis = No) 0.4\n",
            "P(play tennis = Yes) 0.6\n"
          ]
        }
      ]
    },
    {
      "cell_type": "code",
      "source": [
        "def compute_conditional_probability ( train_data ) :\n",
        "  y_unique = ['no', 'yes']\n",
        "  conditional_probability = []\n",
        "  list_x_name = []\n",
        "  for i in range (0, train_data.shape[1]-1):\n",
        "    x_unique = np.unique(train_data[:, i])\n",
        "    list_x_name.append(x_unique)\n",
        "\n",
        "  # your code here ********************\n",
        "  for i in range(train_data.shape[1] - 1):\n",
        "        x_conditional_probability = {}\n",
        "        for x_val in list_x_name[i]:\n",
        "            x_conditional_probability[x_val] = {}\n",
        "            for y_val in y_unique:\n",
        "                count_x_and_y = np.sum((train_data[:, i] == x_val) & (train_data[:, -1] == y_val))\n",
        "                count_y = np.sum(train_data[:, -1] == y_val)\n",
        "                conditional_prob = count_x_and_y / count_y if count_y != 0 else 0\n",
        "                x_conditional_probability[x_val][y_val] = conditional_prob\n",
        "        conditional_probability.append(x_conditional_probability)\n",
        "\n",
        "  return conditional_probability, list_x_name"
      ],
      "metadata": {
        "id": "aChUVXSB5vJ2"
      },
      "execution_count": 5,
      "outputs": []
    },
    {
      "cell_type": "code",
      "source": [
        "train_data = create_train_data ()\n",
        "_ , list_x_name = compute_conditional_probability( train_data )\n",
        "print (\"x1 = \", list_x_name [0])\n",
        "print (\"x2 = \", list_x_name [1])\n",
        "print (\"x3 = \", list_x_name [2])\n",
        "print (\"x4 = \", list_x_name [3])"
      ],
      "metadata": {
        "colab": {
          "base_uri": "https://localhost:8080/"
        },
        "id": "GyfrBtzq7rci",
        "outputId": "aecd0d75-2d24-4e08-d09f-bf6ea78901cc"
      },
      "execution_count": 6,
      "outputs": [
        {
          "output_type": "stream",
          "name": "stdout",
          "text": [
            "x1 =  ['Overcast' 'Rain' 'Sunny']\n",
            "x2 =  ['Cool' 'Hot' 'Mild']\n",
            "x3 =  ['High' 'Normal']\n",
            "x4 =  ['Strong' 'Weak']\n"
          ]
        }
      ]
    },
    {
      "cell_type": "code",
      "source": [
        "# This function is used to return the index of the feature name\n",
        "def get_index_from_value ( feature_name , list_features ) :\n",
        "  return np.where(list_features == feature_name)[0][0]"
      ],
      "metadata": {
        "id": "KkPyMPQ58JrY"
      },
      "execution_count": 7,
      "outputs": []
    },
    {
      "cell_type": "code",
      "source": [
        "train_data = create_train_data ()\n",
        "_ , list_x_name = compute_conditional_probability ( train_data )\n",
        "outlook = list_x_name [0]\n",
        "\n",
        "i1 = get_index_from_value (\"Overcast\", outlook )\n",
        "i2 = get_index_from_value (\"Rain\", outlook )\n",
        "i3 = get_index_from_value (\"Sunny\", outlook )\n",
        "\n",
        "print ( i1 , i2 , i3 )"
      ],
      "metadata": {
        "colab": {
          "base_uri": "https://localhost:8080/"
        },
        "id": "6MDRmYAu8PNK",
        "outputId": "ebf644ab-4359-4fdf-e04f-01493ab58e2b"
      },
      "execution_count": 8,
      "outputs": [
        {
          "output_type": "stream",
          "name": "stdout",
          "text": [
            "0 1 2\n"
          ]
        }
      ]
    },
    {
      "cell_type": "code",
      "source": [
        "train_data = create_train_data()\n",
        "conditional_probability, list_x_name = compute_conditional_probability(train_data)\n",
        "\n",
        "# Compute P(\"Outlook\"=\"Sunny\"|\"Play Tennis\"=\"Yes\")'\n",
        "play_tennis_yes_prob = conditional_probability[0]['Sunny']['yes']\n",
        "\n",
        "print(\"P('Outlook'='Sunny'|'Play Tennis'='Yes') = \", np.round(play_tennis_yes_prob, 2))\n"
      ],
      "metadata": {
        "colab": {
          "base_uri": "https://localhost:8080/"
        },
        "id": "EAbmXxoL8i9_",
        "outputId": "8a52876a-82a1-4209-d721-c47e74848a7e"
      },
      "execution_count": 9,
      "outputs": [
        {
          "output_type": "stream",
          "name": "stdout",
          "text": [
            "P('Outlook'='Sunny'|'Play Tennis'='Yes') =  0.17\n"
          ]
        }
      ]
    },
    {
      "cell_type": "code",
      "source": [
        "train_data = create_train_data()\n",
        "conditional_probability, list_x_name = compute_conditional_probability(train_data)\n",
        "\n",
        "# Compute P(\"Outlook\"=\"Sunny\"|\"Play Tennis\"=\"No\")\n",
        "outlook_sunny_given_no = conditional_probability[0]['Sunny']['no']\n",
        "\n",
        "print(\"P('Outlook'='Sunny'|'Play Tennis'='No') = \", np.round(outlook_sunny_given_no, 2))"
      ],
      "metadata": {
        "colab": {
          "base_uri": "https://localhost:8080/"
        },
        "id": "vn5DfDOMl_zb",
        "outputId": "114afcab-d7b3-4f47-93eb-faf9ac8bfbb0"
      },
      "execution_count": 10,
      "outputs": [
        {
          "output_type": "stream",
          "name": "stdout",
          "text": [
            "P('Outlook'='Sunny'|'Play Tennis'='No') =  0.5\n"
          ]
        }
      ]
    },
    {
      "cell_type": "code",
      "source": [
        "# ##########################\n",
        "# Train Naive Bayes Model\n",
        "# ##########################\n",
        "def train_naive_bayes ( train_data ) :\n",
        "# Step 1: Calculate Prior Probability\n",
        "  y_unique = ['no', 'yes']\n",
        "  prior_probability = compute_prior_probablity ( train_data )\n",
        "\n",
        "# Step 2: Calculate Conditional Probability\n",
        "  conditional_probability , list_x_name = compute_conditional_probability ( train_data)\n",
        "\n",
        "  return prior_probability , conditional_probability , list_x_name"
      ],
      "metadata": {
        "id": "-cxKgM2KqQMx"
      },
      "execution_count": 11,
      "outputs": []
    },
    {
      "cell_type": "code",
      "source": [
        "def prediction_play_tennis(X, list_x_name, prior_probability, conditional_probability):\n",
        "    x1 = get_index_from_value(X[0], list_x_name[0])\n",
        "    x2 = get_index_from_value(X[1], list_x_name[1])\n",
        "    x3 = get_index_from_value(X[2], list_x_name[2])\n",
        "    x4 = get_index_from_value(X[3], list_x_name[3])\n",
        "\n",
        "    p_no = prior_probability[0]\n",
        "    p_yes = prior_probability[1]\n",
        "\n",
        "    p_outlook_no = conditional_probability[0][list_x_name[0][x1]]['no']\n",
        "    p_outlook_yes = conditional_probability[0][list_x_name[0][x1]]['yes']\n",
        "\n",
        "    p_temperature_no = conditional_probability[1][list_x_name[1][x2]]['no']\n",
        "    p_temperature_yes = conditional_probability[1][list_x_name[1][x2]]['yes']\n",
        "\n",
        "    p_humidity_no = conditional_probability[2][list_x_name[2][x3]]['no']\n",
        "    p_humidity_yes = conditional_probability[2][list_x_name[2][x3]]['yes']\n",
        "\n",
        "    p_wind_no = conditional_probability[3][list_x_name[3][x4]]['no']\n",
        "    p_wind_yes = conditional_probability[3][list_x_name[3][x4]]['yes']\n",
        "\n",
        "    p0 = p_no * p_outlook_no * p_temperature_no * p_humidity_no * p_wind_no\n",
        "    p1 = p_yes * p_outlook_yes * p_temperature_yes * p_humidity_yes * p_wind_yes\n",
        "\n",
        "    if p0 > p1:\n",
        "        y_pred = 0\n",
        "    else:\n",
        "        y_pred = 1\n",
        "\n",
        "    return y_pred\n"
      ],
      "metadata": {
        "id": "ZrYmUFPNqdaX"
      },
      "execution_count": 13,
      "outputs": []
    },
    {
      "cell_type": "code",
      "source": [
        "X = ['Sunny', 'Cool', 'High', 'Strong']\n",
        "data = create_train_data()\n",
        "prior_probability , conditional_probability , list_x_name = train_naive_bayes ( data )\n",
        "pred = prediction_play_tennis (X , list_x_name , prior_probability ,\n",
        "conditional_probability )\n",
        "\n",
        "if( pred ) :\n",
        "  print (\"Ad should go!\")\n",
        "else :\n",
        "  print (\"Ad should not go!\")"
      ],
      "metadata": {
        "colab": {
          "base_uri": "https://localhost:8080/"
        },
        "id": "1IErOBynrJHu",
        "outputId": "5bc9b958-d883-4958-ff98-e675673aac43"
      },
      "execution_count": 14,
      "outputs": [
        {
          "output_type": "stream",
          "name": "stdout",
          "text": [
            "Ad should not go!\n"
          ]
        }
      ]
    }
  ]
}