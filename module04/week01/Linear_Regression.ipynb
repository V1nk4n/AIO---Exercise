{
  "nbformat": 4,
  "nbformat_minor": 0,
  "metadata": {
    "colab": {
      "provenance": [],
      "gpuType": "T4"
    },
    "kernelspec": {
      "name": "python3",
      "display_name": "Python 3"
    },
    "language_info": {
      "name": "python"
    },
    "accelerator": "GPU"
  },
  "cells": [
    {
      "cell_type": "code",
      "source": [
        "!gdown 1FdydikIZfRaENz3CLaZT24Deyc4KvZO3"
      ],
      "metadata": {
        "colab": {
          "base_uri": "https://localhost:8080/"
        },
        "id": "NYuK-NtmP1R9",
        "outputId": "683c3a8d-749a-4c0a-e8f9-923573ff218d"
      },
      "execution_count": null,
      "outputs": [
        {
          "output_type": "stream",
          "name": "stdout",
          "text": [
            "Downloading...\n",
            "From: https://drive.google.com/uc?id=1FdydikIZfRaENz3CLaZT24Deyc4KvZO3\n",
            "To: /content/advertising.csv\n",
            "\r  0% 0.00/4.06k [00:00<?, ?B/s]\r100% 4.06k/4.06k [00:00<00:00, 1.76MB/s]\n"
          ]
        }
      ]
    },
    {
      "cell_type": "markdown",
      "source": [
        "# Bài tập 1"
      ],
      "metadata": {
        "id": "_F00mZVXW7gy"
      }
    },
    {
      "cell_type": "code",
      "execution_count": null,
      "metadata": {
        "id": "Qb8pjAX2WTBb"
      },
      "outputs": [],
      "source": [
        "import numpy as np\n",
        "import matplotlib.pyplot as plt\n",
        "import random\n",
        "\n",
        "\n",
        "def get_column(data, index):\n",
        "    # your code here\n",
        "    result = [row[index] for row in data]\n",
        "    return result\n",
        "\n",
        "\n",
        "def prepare_data(file_name_dataset):\n",
        "    data = np.genfromtxt(file_name_dataset, delimiter=',',\n",
        "                         skip_header=1).tolist()\n",
        "    N = len(data)\n",
        "\n",
        "    # get tv (index = 0)\n",
        "    tv_data = get_column(data, 0)\n",
        "\n",
        "    # get radio (index = 1)\n",
        "    radio_data = get_column(data, 1)\n",
        "\n",
        "    # get newspaper (index = 2)\n",
        "    newspaper_data = get_column(data, 2)\n",
        "\n",
        "    # get sales (index = 3)\n",
        "    sales_data = get_column(data, 3)\n",
        "\n",
        "    # building X input and y output for training\n",
        "    X = [tv_data, radio_data, newspaper_data]\n",
        "    y = sales_data\n",
        "    return X, y"
      ]
    },
    {
      "cell_type": "code",
      "source": [
        "X, y = prepare_data('/content/advertising.csv')\n",
        "list = [sum(X[0][:5]), sum(X[1][:5]) , sum(X[2][:5]) , sum(y[:5])]\n",
        "print(list)"
      ],
      "metadata": {
        "colab": {
          "base_uri": "https://localhost:8080/"
        },
        "id": "VXd323Z0QDpU",
        "outputId": "49bad5cd-0c60-4e36-ac6e-2a9bc36e0406"
      },
      "execution_count": null,
      "outputs": [
        {
          "output_type": "stream",
          "name": "stdout",
          "text": [
            "[624.1, 175.10000000000002, 300.5, 78.9]\n",
            "[22.1, 10.4, 12.0, 16.5, 17.9, 7.2, 11.8, 13.2, 4.8, 15.6, 12.6, 17.4, 9.2, 13.7, 19.0, 22.4, 12.5, 24.4, 11.3, 14.6, 18.0, 17.5, 5.6, 20.5, 9.7, 17.0, 15.0, 20.9, 18.9, 10.5, 21.4, 11.9, 13.2, 17.4, 11.9, 17.8, 25.4, 14.7, 10.1, 21.5, 16.6, 17.1, 20.7, 17.9, 8.5, 16.1, 10.6, 23.2, 19.8, 9.7, 16.4, 10.7, 22.6, 21.2, 20.2, 23.7, 5.5, 13.2, 23.8, 18.4, 8.1, 24.2, 20.7, 14.0, 16.0, 11.3, 11.0, 13.4, 18.9, 22.3, 18.3, 12.4, 8.8, 11.0, 17.0, 8.7, 6.9, 14.2, 5.3, 11.0, 11.8, 17.3, 11.3, 13.6, 21.7, 20.2, 12.0, 16.0, 12.9, 16.7, 14.0, 7.3, 19.4, 22.2, 11.5, 16.9, 16.7, 20.5, 25.4, 17.2, 16.7, 23.8, 19.8, 19.7, 20.7, 15.0, 7.2, 12.0, 5.3, 19.8, 18.4, 21.8, 17.1, 20.9, 14.6, 12.6, 12.2, 9.4, 15.9, 6.6, 15.5, 7.0, 16.6, 15.2, 19.7, 10.6, 6.6, 11.9, 24.7, 9.7, 1.6, 17.7, 5.7, 19.6, 10.8, 11.6, 9.5, 20.8, 9.6, 20.7, 10.9, 19.2, 20.1, 10.4, 12.3, 10.3, 18.2, 25.4, 10.9, 10.1, 16.1, 11.6, 16.6, 16.0, 20.6, 3.2, 15.3, 10.1, 7.3, 12.9, 16.4, 13.3, 19.9, 18.0, 11.9, 16.9, 8.0, 17.2, 17.1, 20.0, 8.4, 17.5, 7.6, 16.7, 16.5, 27.0, 20.2, 16.7, 16.8, 17.6, 15.5, 17.2, 8.7, 26.2, 17.6, 22.6, 10.3, 17.3, 20.9, 6.7, 10.8, 11.9, 5.9, 19.6, 17.3, 7.6, 14.0, 14.8, 25.5, 18.4]\n"
          ]
        }
      ]
    },
    {
      "cell_type": "markdown",
      "source": [
        "# Bài tập 2"
      ],
      "metadata": {
        "id": "VULTyJxWW-xf"
      }
    },
    {
      "cell_type": "code",
      "source": [
        "def implement_linear_regression(X_data, y_data, epoch_max=50, lr=1e-5):\n",
        "    losses = []\n",
        "\n",
        "    w1, w2, w3, b = initialize_params()\n",
        "\n",
        "    N = len(y_data)\n",
        "    for epoch in range(epoch_max):\n",
        "        for i in range(N):\n",
        "            # get a sample\n",
        "            x1 = X_data[0][i]\n",
        "            x2 = X_data[1][i]\n",
        "            x3 = X_data[2][i]\n",
        "\n",
        "            y = y_data[i]\n",
        "\n",
        "            # compute output\n",
        "            y_hat = predict(x1, x2, x3, w1, w2, w3, b)\n",
        "\n",
        "            # compute loss\n",
        "            loss = compute_loss_mse(y, y_hat)\n",
        "\n",
        "            # compute gradient w1, w2, w3, b\n",
        "            dl_dw1 = compute_gradient_wi(x1, y, y_hat)\n",
        "            dl_dw2 = compute_gradient_wi(x2, y, y_hat)\n",
        "            dl_dw3 = compute_gradient_wi(x3, y, y_hat)\n",
        "            dl_db = compute_gradient_b(y, y_hat)\n",
        "\n",
        "            # update parameters\n",
        "            w1 = update_weight_wi(w1, dl_dw1, lr)\n",
        "            w2 = update_weight_wi(w2, dl_dw2, lr)\n",
        "            w3 = update_weight_wi(w3, dl_dw3, lr)\n",
        "\n",
        "            losses.append(loss)\n",
        "    return (w1, w2, w3, b, losses)"
      ],
      "metadata": {
        "id": "ZngGDX4Za79o"
      },
      "execution_count": null,
      "outputs": []
    },
    {
      "cell_type": "markdown",
      "source": [
        "## 2.1"
      ],
      "metadata": {
        "id": "hFTlsyAmZ7B1"
      }
    },
    {
      "cell_type": "code",
      "source": [
        "# def initialize_params():\n",
        "#     w1 = random.gauss(mu=0.0, sigma=0.01)\n",
        "#     w2 = random.gauss(mu=0.0, sigma=0.01)\n",
        "#     w3 = random.gauss(mu=0.0, sigma=0.01)\n",
        "#     b = 0\n",
        "#     return w1, w2, w3, b\n",
        "\n",
        "def initialize_params():\n",
        "    w1, w2, w3, b = (0.016992259082509283,\n",
        "                     0.0070783670518262355, -0.002307860847821344, 0)\n",
        "    return w1, w2, w3, b"
      ],
      "metadata": {
        "id": "lXgTcP0wbB-T"
      },
      "execution_count": null,
      "outputs": []
    },
    {
      "cell_type": "markdown",
      "source": [
        "## 2.2"
      ],
      "metadata": {
        "id": "oWEoU8u6Z_CW"
      }
    },
    {
      "cell_type": "code",
      "source": [
        "def predict(x1, x2, x3, w1, w2, w3, b):\n",
        "    # your code here\n",
        "    result = w1 * x1 + w2 * x2 + w3 * x3 + b\n",
        "    return result"
      ],
      "metadata": {
        "id": "2y_DHrqybFwm"
      },
      "execution_count": null,
      "outputs": []
    },
    {
      "cell_type": "code",
      "source": [
        "y = predict(x1=1, x2=1, x3=1, w1=0, w2=0.5, w3=0, b=0.5)\n",
        "print(y)"
      ],
      "metadata": {
        "colab": {
          "base_uri": "https://localhost:8080/"
        },
        "id": "D7L4J-GQQ2Vy",
        "outputId": "7ad9190c-1a7e-4439-f930-95458c6fbe80"
      },
      "execution_count": null,
      "outputs": [
        {
          "output_type": "stream",
          "name": "stdout",
          "text": [
            "1.0\n"
          ]
        }
      ]
    },
    {
      "cell_type": "markdown",
      "source": [
        "## 2.3"
      ],
      "metadata": {
        "id": "nMU2yA1IZ_OQ"
      }
    },
    {
      "cell_type": "code",
      "source": [
        "def compute_loss_mse(y_hat, y):\n",
        "    # your code here\n",
        "    loss = (y_hat - y)**2\n",
        "    return loss"
      ],
      "metadata": {
        "id": "WfJVa_8NbGIi"
      },
      "execution_count": null,
      "outputs": []
    },
    {
      "cell_type": "code",
      "source": [
        "l = compute_loss_mse(y_hat=1, y=0.5)\n",
        "print(l)"
      ],
      "metadata": {
        "colab": {
          "base_uri": "https://localhost:8080/"
        },
        "id": "eAdG0wP1RBIU",
        "outputId": "dcece411-0b81-49c4-fedf-83f023d178bd"
      },
      "execution_count": null,
      "outputs": [
        {
          "output_type": "stream",
          "name": "stdout",
          "text": [
            "0.25\n"
          ]
        }
      ]
    },
    {
      "cell_type": "markdown",
      "source": [
        "## 2.4"
      ],
      "metadata": {
        "id": "xCO2qgisZ_TD"
      }
    },
    {
      "cell_type": "code",
      "source": [
        "def compute_gradient_wi(xi, y, y_hat):\n",
        "    dl_dwi = 2*xi*(y_hat-y)\n",
        "    return dl_dwi\n",
        "\n",
        "def compute_gradient_b(y, y_hat):\n",
        "    # your code here\n",
        "    dl_db = 2*(y_hat-y)\n",
        "    return dl_db"
      ],
      "metadata": {
        "id": "pCODDq-kbGjI"
      },
      "execution_count": null,
      "outputs": []
    },
    {
      "cell_type": "code",
      "source": [
        "g_wi = compute_gradient_wi(xi=1.0, y=1.0, y_hat=0.5)\n",
        "print(g_wi)"
      ],
      "metadata": {
        "colab": {
          "base_uri": "https://localhost:8080/"
        },
        "id": "l7nQ2DKMRK_-",
        "outputId": "03b6f9d0-00bb-43bf-9cd8-b588901285b9"
      },
      "execution_count": null,
      "outputs": [
        {
          "output_type": "stream",
          "name": "stdout",
          "text": [
            "-1.0\n"
          ]
        }
      ]
    },
    {
      "cell_type": "code",
      "source": [
        "g_b = compute_gradient_b(y=2.0, y_hat=0.5)\n",
        "print(g_b)"
      ],
      "metadata": {
        "colab": {
          "base_uri": "https://localhost:8080/"
        },
        "id": "3DPaWZJcRUOj",
        "outputId": "a5382d41-fa3b-428b-cd79-0a6ed727d25a"
      },
      "execution_count": null,
      "outputs": [
        {
          "output_type": "stream",
          "name": "stdout",
          "text": [
            "-3.0\n"
          ]
        }
      ]
    },
    {
      "cell_type": "markdown",
      "source": [
        "## 2.5"
      ],
      "metadata": {
        "id": "_G91H4IeZ_YC"
      }
    },
    {
      "cell_type": "code",
      "source": [
        "def update_weight_wi(wi, dl_dwi, lr):\n",
        "    # your code here\n",
        "    wi = wi - lr*dl_dwi\n",
        "    return wi\n",
        "\n",
        "\n",
        "def update_weight_b(b, dl_db, lr):\n",
        "    b = b - lr*dl_db\n",
        "    return b"
      ],
      "metadata": {
        "id": "NSO8AtEnbHCk"
      },
      "execution_count": null,
      "outputs": []
    },
    {
      "cell_type": "code",
      "source": [
        "after_wi = update_weight_wi(wi=1.0, dl_dwi=-0.5, lr=1e-5)\n",
        "print(after_wi)"
      ],
      "metadata": {
        "colab": {
          "base_uri": "https://localhost:8080/"
        },
        "id": "R4oZptO2RdXv",
        "outputId": "abcc5cac-2b60-40a9-fbea-9690866cc89f"
      },
      "execution_count": null,
      "outputs": [
        {
          "output_type": "stream",
          "name": "stdout",
          "text": [
            "1.000005\n"
          ]
        }
      ]
    },
    {
      "cell_type": "code",
      "source": [
        "after_b = update_weight_b(b=0.5, dl_db=-1.0, lr=1e-5)\n",
        "print(after_b)\n",
        "print(after_wi)"
      ],
      "metadata": {
        "colab": {
          "base_uri": "https://localhost:8080/"
        },
        "id": "ASOFL2MuRf7U",
        "outputId": "11e03e75-58a6-44f9-c064-ad2b24e85904"
      },
      "execution_count": null,
      "outputs": [
        {
          "output_type": "stream",
          "name": "stdout",
          "text": [
            "0.50001\n",
            "1.000005\n"
          ]
        }
      ]
    },
    {
      "cell_type": "markdown",
      "source": [
        "## 2.6"
      ],
      "metadata": {
        "id": "niuQummwZ_7r"
      }
    },
    {
      "cell_type": "code",
      "source": [
        "(w1, w2, w3, b, losses) = implement_linear_regression(X, y)\n",
        "plt.plot(losses[:100])\n",
        "plt.xlabel(\"#iteration\")\n",
        "plt.ylabel(\"Loss\")\n",
        "plt.show()"
      ],
      "metadata": {
        "id": "frlSKu9CbHcE",
        "colab": {
          "base_uri": "https://localhost:8080/",
          "height": 449
        },
        "outputId": "9405f117-7db7-4465-8d07-8be39a7b8d09"
      },
      "execution_count": null,
      "outputs": [
        {
          "output_type": "display_data",
          "data": {
            "text/plain": [
              "<Figure size 640x480 with 1 Axes>"
            ],
            "image/png": "[encoded data removed]"
          },
          "metadata": {}
        }
      ]
    },
    {
      "cell_type": "code",
      "source": [
        "(w1, w2, w3, b, losses) = implement_linear_regression(X, y)\n",
        "print(w1, w2, w3)"
      ],
      "metadata": {
        "colab": {
          "base_uri": "https://localhost:8080/"
        },
        "id": "JVmTzPYnTL22",
        "outputId": "771e0b86-c8cb-4b82-c397-463fd0ac8d3c"
      },
      "execution_count": null,
      "outputs": [
        {
          "output_type": "stream",
          "name": "stdout",
          "text": [
            "0.07464807683656512 0.16066543117892498 0.018243299909893745\n"
          ]
        }
      ]
    },
    {
      "cell_type": "code",
      "source": [
        "tv = 19.2\n",
        "radio = 35.9\n",
        "newspaper = 51.3\n",
        "X , y = prepare_data ('/content/advertising.csv')\n",
        "(w1, w2, w3, b, losses) = implement_linear_regression(X, y, epoch_max=50, lr=1e-5)\n",
        "sales = predict(tv, radio, newspaper, w1, w2, w3, b)\n",
        "print (f'predicted sales is {sales}')"
      ],
      "metadata": {
        "colab": {
          "base_uri": "https://localhost:8080/"
        },
        "id": "C7CK_RBsTbL8",
        "outputId": "32ca0ee3-ff80-46cf-88a4-8c8da9253c72"
      },
      "execution_count": null,
      "outputs": [
        {
          "output_type": "stream",
          "name": "stdout",
          "text": [
            "predicted sales is 8.137013339963005\n"
          ]
        }
      ]
    },
    {
      "cell_type": "markdown",
      "source": [
        "## 2.7"
      ],
      "metadata": {
        "id": "Z3CKbOzfZ_-R"
      }
    },
    {
      "cell_type": "code",
      "source": [
        "def compute_loss_mae(y_hat, y):\n",
        "  return np.abs(y_hat-y)"
      ],
      "metadata": {
        "id": "CyVzLYNIT8Y3"
      },
      "execution_count": null,
      "outputs": []
    },
    {
      "cell_type": "code",
      "source": [
        "l = compute_loss_mae(y_hat =1, y =0.5)\n",
        "print ( l )"
      ],
      "metadata": {
        "id": "wLRWAmNHXAE-",
        "colab": {
          "base_uri": "https://localhost:8080/"
        },
        "outputId": "c9a9ad61-8139-48c5-f475-b235b2e2e38d"
      },
      "execution_count": null,
      "outputs": [
        {
          "output_type": "stream",
          "name": "stdout",
          "text": [
            "0.5\n"
          ]
        }
      ]
    },
    {
      "cell_type": "markdown",
      "source": [
        "# Bài tập 3"
      ],
      "metadata": {
        "id": "QxoMuu_xXAMj"
      }
    },
    {
      "cell_type": "code",
      "source": [
        "def implement_linear_regression_nsamples(X_data, y_data, epoch_max=50, lr=1e-5):\n",
        "    losses = []\n",
        "\n",
        "    w1, w2, w3, b = initialize_params()\n",
        "    N = len(y_data)\n",
        "\n",
        "    for epoch in range(epoch_max):\n",
        "\n",
        "        loss_total = 0.0\n",
        "        dw1_total = 0.0\n",
        "        dw2_total = 0.0\n",
        "        dw3_total = 0.0\n",
        "        db_total = 0.0\n",
        "\n",
        "        for i in range(N):\n",
        "            # get a sample\n",
        "            x1 = X_data[0][i]\n",
        "            x2 = X_data[1][i]\n",
        "            x3 = X_data[2][i]\n",
        "\n",
        "            y = y_data[i]\n",
        "\n",
        "            # compute output\n",
        "            y_hat = predict(x1, x2, x3, w1, w2, w3, b)\n",
        "\n",
        "            # compute loss\n",
        "            loss = compute_loss_mae(y, y_hat)\n",
        "\n",
        "            # accumulate loss\n",
        "            # your code here\n",
        "            loss_total += loss\n",
        "\n",
        "            # compute gradient w1, w2, w3, b\n",
        "            dl_dw1 = compute_gradient_wi(x1, y, y_hat)\n",
        "            dl_dw2 = compute_gradient_wi(x2, y, y_hat)\n",
        "            dl_dw3 = compute_gradient_wi(x3, y, y_hat)\n",
        "            dl_db = compute_gradient_b(y, y_hat)\n",
        "\n",
        "            # accumulate gradient w1 , w2 , w3 , b\n",
        "            # your code here\n",
        "            dw1_total += dl_dw1\n",
        "            dw2_total += dl_dw2\n",
        "            dw3_total += dl_dw3\n",
        "            db_total += dl_db\n",
        "\n",
        "        # (after processing N samples) - update parameters\n",
        "        # your code here\n",
        "        w1 = update_weight_wi(w1, dw1_total/N, lr)\n",
        "        w2 = update_weight_wi(w2, dw2_total/N, lr)\n",
        "        w3 = update_weight_wi(w3, dw3_total/N, lr)\n",
        "        b = update_weight_b(b, db_total/N, lr)\n",
        "\n",
        "        # logging\n",
        "        losses.append(loss_total/N)\n",
        "\n",
        "    return (w1, w2, w3, b, losses)"
      ],
      "metadata": {
        "id": "0y6dQkJiXBas"
      },
      "execution_count": null,
      "outputs": []
    },
    {
      "cell_type": "code",
      "source": [
        "(w1, w2, w3, b, losses) = implement_linear_regression_nsamples(X, y,\n",
        "                                                               epoch_max=1000,\n",
        "                                                               lr=1e-5)\n",
        "print(losses)\n",
        "plt.plot(losses)\n",
        "plt.xlabel(\"#epoch\")\n",
        "plt.ylabel(\"MSELoss\")\n",
        "plt.show()"
      ],
      "metadata": {
        "id": "la2021A-b_bV",
        "colab": {
          "base_uri": "https://localhost:8080/",
          "height": 488
        },
        "outputId": "b819e6bd-7f97-4be5-e5e3-24c26d59ae2e"
      },
      "execution_count": null,
      "outputs": [
        {
          "output_type": "stream",
          "name": "stdout",
          "text": [
            "[172.98395547828923, 39.4081674745134, 18.15746728564735, 14.634633779162357, 13.913880074022757, 13.640049637323427, 13.441395294810789, 13.259118517018994, 13.083802587178743, 12.913826664416215, 12.748804182322559, 12.58854742072041, 12.432904005847659, 12.281730988201284, 12.134890631437667, 11.992249630675893, 11.853678875589457, 11.719053303032835, 11.588251767260099, 11.461156916275085, 11.33765507239911, 11.217636116651946, 11.100993376782947, 10.987623518830576, 10.877426442098113, 10.77030517743778, 10.666165788738786, 10.564917277518694, 10.466471490519933, 10.370743030217112, 10.277649168143098, 10.187109760945372, 10.099047169086274, 10.013386178104167, 9.930053922354572, 9.848979811153313, 9.770095457245782, 9.69333460752933, 9.61863307595747, 9.545928678557278, 9.475161170493593, 9.406272185115144, 9.339205174920474, 9.273905354383018, 9.210319644576826, 9.148396619546123, 9.088086454363877, 9.029340874825948, 8.972113108729593, 8.916357838686066, 8.86203115641928, 8.809090518503508, 8.757494703494807, 8.707203770412436, 8.658179018527385, 8.610382948417252, 8.563779224247194, 8.518332637238558, 8.474009070287702, 8.43077546369872, 8.388599781995037, 8.347450981775916, 8.307298980584829, 8.268114626757923, 8.229869670221678, 8.19253673420983, 8.15608928787063, 8.12050161973632, 8.08574881202778, 8.051806715767922, 8.018651926678372, 7.986261761834891, 7.95461423705739, 7.923688045011654, 7.893462534000133, 7.8639176874203045, 7.83503410386934, 7.80679297787497, 7.779176081232567, 7.752165744929602, 7.72574484163872, 7.699896768761744, 7.674605432007078, 7.649855229483877, 7.62563103629648, 7.6019181896236, 7.578702474266847, 7.555970108653729, 7.533707731281146, 7.511902387584981, 7.490541517222969, 7.4696129417572354, 7.449104852724421, 7.429005800080809, 7.40930468101089, 7.389990729087756, 7.3710535037744, 7.352482880254963, 7.334269039585795, 7.3164024591560475, 7.298873903448158, 7.281674415088787, 7.264795306180925, 7.248228149908579, 7.231964772405109, 7.21599724487724, 7.200317875976506, 7.184919204410329, 7.169793991785319, 7.154935215675346, 7.140336062907395, 7.1259899230582695, 7.111890382155645, 7.098031216576777, 7.084406387138987, 7.071010033375559, 7.057836467991437, 7.044880171492962, 7.032135786986158, 7.019598115138331, 7.007262109297766, 6.995122870766592, 6.983175644221961, 6.97141581328095, 6.959838896204477, 6.948440541736098, 6.937216525071263, 6.926162743952999, 6.915275214890005, 6.904550069493293, 6.893983550927793, 6.883572010475055, 6.8733119042037005, 6.863199789744297, 6.853232323165193, 6.843406255946315, 6.833718432047624, 6.824165785069536, 6.814745335502181, 6.805454188060788, 6.796289529104518, 6.787248624136031, 6.77832881537939, 6.769527519433662, 6.7608422249999585, 6.752270490679593, 6.7438099428410485, 6.735458273553674, 6.727213238585949, 6.719072655466337, 6.71103440160469, 6.703096412472393, 6.695256679839321, 6.687513250065844, 6.679864222448185, 6.672307747615401, 6.664842025976409, 6.65746530621544, 6.6501758838344225, 6.642972099740851, 6.635852338879662, 6.628815028907696, 6.621858638909565, 6.6149816781534305, 6.6081826948855795, 6.601460275162485, 6.59481304171928, 6.588239652873362, 6.581738801462146, 6.575309213813837, 6.568949648750196, 6.562658896620291, 6.556435778364231, 6.550279144606037, 6.544187874774614, 6.5381608762520305, 6.532197083548178, 6.526295457501078, 6.520454984501907, 6.5146746757440965, 6.508953566495615, 6.503290715393847, 6.497685203762237, 6.49213613494808, 6.486642633680805, 6.481203845450055, 6.475818935902987, 6.470487090260167, 6.465207512749543, 6.459979426057734, 6.4548020707984115, 6.449674704996913, 6.444596603590792, 6.4395670579457, 6.434585375386193, 6.4296508787409365, 6.424762905901873, 6.419920809396931, 6.415123955975847, 6.410371726208648, 6.4056635140965, 6.400998726694411, 6.396376783745526, 6.391797117326515, 6.387259171503912, 6.382762402000863, 6.378306275874065, 6.373890271200546, 6.369513876773974, 6.3651765918102505, 6.360877925661989, 6.356617397541718, 6.352394536253474, 6.348208879932514, 6.344059975792933, 6.339947379882897, 6.33587065684733, 6.331829379697703, 6.327823129588818, 6.323851495602291, 6.319914074536561, 6.316010470703252, 6.312140295729607, 6.3083031683668604, 6.304498714304377, 6.300726565989337, 6.296986362451827, 6.293277749135154, 6.289600377731189, 6.285953906020673, 6.282337997718242, 6.278752322322041, 6.275196554967851, 6.271670376287469, 6.268173472271363, 6.264705534135299, 6.261266258190957, 6.257855345720359, 6.254472502853941, 6.251117440452284, 6.2477898739912066, 6.2444895234503415, 6.241216113204871, 6.23796937192045, 6.234749032451203, 6.231554831740689, 6.2283865107256835, 6.225243814242819, 6.22212649093789, 6.219034293177746, 6.215966976964756, 6.212924301853735, 6.209906030871219, 6.206911930437064, 6.203941770288282, 6.20099532340505, 6.1980723659388, 6.195172677142374, 6.192296039302136, 6.18944223767199, 6.18661106040927, 6.183802298512444, 6.181015745760502, 6.178251198654104, 6.1755084563583065, 6.172787320646933, 6.170087595848449, 6.16740908879333, 6.164751608762888, 6.162114967439513, 6.159498978858253, 6.1569034593597065, 6.154328227544254, 6.151773104227448, 6.149237912396661, 6.146722477168887, 6.144226625749666, 6.141750187393118, 6.139292993363045, 6.13685487689505, 6.1344356731596505, 6.132035219226415, 6.129653354028947, 6.127289918330891, 6.12494475469275, 6.12261770743959, 6.120308622629571, 6.118017348023296, 6.1157437330539395, 6.113487628798133, 6.111248887947601, 6.109027364781516, 6.1068229151395075, 6.104635396395434, 6.102464667431701, 6.100310588614325, 6.0981730217685035, 6.096051830154892, 6.0939468784463795, 6.091858032705457, 6.089785160362185, 6.087728130192582, 6.085686812297618, 6.083661078082725, 6.081650800237665, 6.079655852717034, 6.077676110721126, 6.07571145067726, 6.073761750221543, 6.071826888181071, 6.06990674455651, 6.068001200505098, 6.0661101383240075, 6.064233441434105, 6.062370994364077, 6.060522682734862, 6.0586883932445, 6.0568680136532524, 6.055061432769058, 6.053268540433356, 6.051489227507152, 6.049723385857382, 6.047970908343627, 6.0462316888050465, 6.04450562204761, 6.042792603831612, 6.041092530859373, 6.039405300763323, 6.0377308120941935, 6.036068964309514, 6.034419657762343, 6.032782793690203, 6.031158274204255, 6.029546002278648, 6.027945881740137, 6.026357817257827, 6.024781714333188, 6.023217479290201, 6.021665019265731, 6.020124242200074, 6.018595056827616, 6.0170773726678, 6.0155711000161025, 6.014076149935319, 6.012592434246874, 6.011119865522392, 6.009658357075368, 6.008207822952954, 6.006768177928, 6.005339337491097, 6.003921217842852, 6.002513735886255, 6.001116809219177, 5.9997303561270074, 5.998354295575402, 5.996988547203172, 5.995633031315231, 5.9942876688757485, 5.992952381501316, 5.991627091454294, 5.990311721636251, 5.989006195581458, 5.9877104374505405, 5.986424372024224, 5.985147924697101, 5.983881021471619, 5.982623588952061, 5.9813755543386184, 5.980136845421622, 5.978907390575788, 5.977687118754571, 5.976475959484622, 5.975273842860288, 5.974080699538201, 5.972896460731961, 5.971721058206878, 5.9705544242747886, 5.96939649178893, 5.968247194138932, 5.967106465245802, 5.9659742395570525, 5.964850452041826, 5.963735038186167, 5.962627933988241, 5.961529075953739, 5.960438401091235, 5.959355846907698, 5.9582813514039765, 5.957214853070384, 5.956156290882355, 5.955105604296097, 5.954062733244357, 5.953027618132211, 5.952000199832887, 5.9509804196837015, 5.949968219481935, 5.948963541480895, 5.947966328385914, 5.946976523350432, 5.94599406997213, 5.9450189122891235, 5.9440509947761475, 5.943090262340844, 5.942136660320045, 5.941190134476143, 5.940250630993433, 5.9393180964745955, 5.9383924779370965, 5.937473722809749, 5.9365617789292, 5.9356565945365585, 5.934758118273968, 5.933866299181297, 5.932981086692766, 5.9321024306337495, 5.931230281217446, 5.930364589041735, 5.9295053050859625, 5.9286523807078, 5.92780576764013, 5.926965417987983, 5.926131284225469, 5.925303319192733, 5.924481476093039, 5.923665708489737, 5.92285597030335, 5.9220522158086935, 5.92125439963198, 5.920462476747993, 5.919676402477246, 5.918896132483199, 5.918121622769502, 5.917352829677259, 5.916589709882288, 5.915832220392475, 5.915080318545082, 5.914333962004111, 5.9135931087577305, 5.912857717115637, 5.912127745706528, 5.911403153475533, 5.910683899681736, 5.909969943895633, 5.909261245996707, 5.9085577661709445, 5.907859464908431, 5.907166303000959, 5.906478241539599, 5.905795241912363, 5.905117265801887, 5.904444275183078, 5.903776232320826, 5.903113099767723, 5.90245484036182, 5.901801417224358, 5.901152793757575, 5.90050893364249, 5.899869800836733, 5.899235359572374, 5.898605574353775, 5.897980409955482, 5.897359831420097, 5.896743804056211, 5.896132293436308, 5.89552526539474, 5.894922686025653, 5.894324521681018, 5.893730738968577, 5.893141304749896, 5.892556186138371, 5.891975350497302, 5.891398765437929, 5.890826398817543, 5.890258218737546, 5.8896941935416, 5.889134291813729, 5.888578482376476, 5.888026734289063, 5.8874790168455435, 5.886935299573018, 5.886395552229829, 5.885859744803778, 5.885327847510341, 5.884799830790962, 5.884275665311267, 5.883755321959365, 5.883238771844127, 5.882725986293499, 5.882216936852816, 5.881711595283125, 5.881209933559546, 5.8807119238696215, 5.88021753861167, 5.879726750393215, 5.87923953202932, 5.87875585654107, 5.878275697153919, 5.877799027296192, 5.877325820597482, 5.876856050887155, 5.876389692192781, 5.8759267187386435, 5.875467104944225, 5.875010825422719, 5.874557854979568, 5.874108168610953, 5.873661741502384, 5.873218549027216, 5.8727785667452475, 5.872341770401277, 5.871908135923695, 5.871477639423098, 5.871050257190887, 5.870625965697882, 5.870204741592972, 5.869786561701753, 5.869371403025183, 5.868959242738233, 5.868550058188582, 5.868143826895293, 5.867740526547492, 5.867340135003118, 5.866942630287599, 5.866547990592593, 5.866156194274703, 5.865767219854272, 5.865381046014083, 5.864997651598162, 5.8646170156105395, 5.8642391172140105, 5.863863935728995, 5.863491450632255, 5.863121641555775, 5.862754488285545, 5.862389970760413, 5.862028069070913, 5.861668763458104, 5.861312034312453, 5.8609578621726826, 5.860606227724648, 5.86025711180022, 5.859910495376187, 5.859566359573147, 5.859224685654417, 5.858885455024949, 5.858548649230263, 5.858214249955376, 5.85788223902374, 5.857552598396208, 5.857225310169971, 5.856900356577543, 5.856577719985731, 5.8562573828946, 5.8559393279364835, 5.855623537874989, 5.855309995603971, 5.854998684146567, 5.854689586654213, 5.854382686405688, 5.854077966806114, 5.853775411386025, 5.853475003800412, 5.853176727827784, 5.852880567369215, 5.852586506447443, 5.852294529205934, 5.852004619907962, 5.851716762935712, 5.851430942789374, 5.851147144086259, 5.850865351559907, 5.850585550059197, 5.850307724547491, 5.8500318601017485, 5.849757941911707, 5.849485955278966, 5.849215885616192, 5.848947718446259, 5.848681439401425, 5.848417034222473, 5.848154488757938, 5.847893788963245, 5.847634920899944, 5.847377870734853, 5.847122624739335, 5.8468691692884445, 5.846617490860162, 5.846367576034619, 5.846119411493339, 5.845872984018439, 5.845628280491895, 5.845385287894788, 5.845143993306524, 5.844904383904127, 5.84466644696148, 5.8444301698486, 5.84419554003091, 5.8439625450685035, 5.843731172615475, 5.843501410419133, 5.84327324631937, 5.843046668247931, 5.842821664227683, 5.842598222372017, 5.842376330884073, 5.842155978056101, 5.84193715226879, 5.841719841990597, 5.8415040357770796, 5.841289722270228, 5.841076890197839, 5.840865528372838, 5.840655625692644, 5.840447171138555, 5.840240153775071, 5.840034562749306, 5.839830387290335, 5.839627616708598, 5.839426240395261, 5.83922624782161, 5.839027628538491, 5.838830372175621, 5.838634468441082, 5.83843990712066, 5.838246678077319, 5.838054771250549, 5.837864176655849, 5.837674884384126, 5.837486884601122, 5.837300167546844, 5.837114723535037, 5.836930542952582, 5.836747616258973, 5.836565933985765, 5.836385486735996, 5.836206265183712, 5.836028260073371, 5.835851462219342, 5.835675862505363, 5.835501451884028, 5.835328221376255, 5.8351561620707715, 5.834985265123628, 5.834815521757644, 5.834646923261937, 5.834479460991414, 5.83431312636627, 5.834147910871495, 5.833983806056396, 5.833820803534092, 5.833658894981051, 5.833498072136585, 5.833338326802423, 5.8331796508421805, 5.833022036180933, 5.832865474804751, 5.8327099587602, 5.832555480153929, 5.832402031152202, 5.832249603980441, 5.832098190922774, 5.831947784321611, 5.831798376577198, 5.831649960147153, 5.831502527546079, 5.831356071345097, 5.831210584171435, 5.831066058707992, 5.830922487692943, 5.8307798639192985, 5.8306381802344855, 5.830497429539953, 5.830357604790776, 5.830218698995205, 5.830080705214316, 5.82994361656157, 5.829807426202447, 5.8296721273540415, 5.82953771328466, 5.829404177313462, 5.829271512810043, 5.829139713194096, 5.829008771934985, 5.828878682551402, 5.828749438610983, 5.828621033729952, 5.82849346157273, 5.828366715851587, 5.828240790326281, 5.828115678803693, 5.827991375137471, 5.827867873227691, 5.8277451670204705, 5.827623250507686, 5.827502117726548, 5.827381762759313, 5.827262179732928, 5.8271433628186955, 5.8270253062319215, 5.826908004231622, 5.826791451120143, 5.826675641242868, 5.826560568987894, 5.826446228785681, 5.826332615108759, 5.8262197224713965, 5.826107545429294, 5.825996078579268, 5.8258853165589315, 5.825775254046391, 5.825665885759957, 5.825557206457815, 5.8254492109377445, 5.825341894036796, 5.82523525063103, 5.8251292756351845, 5.825023964002417, 5.824919310723973, 5.8248153108289555, 5.824711959383982, 5.8246092514929355, 5.824507182296667, 5.8244057469727295, 5.8243049407351055, 5.824204758833889, 5.824105196555073, 5.824006249220236, 5.823907912186295, 5.823810180845223, 5.823713050623789, 5.823616516983309, 5.823520575419376, 5.82342522146158, 5.8233304506733, 5.823236258651383, 5.8231426410259575, 5.823049593460134, 5.822957111649791, 5.822865191323301, 5.822773828241295, 5.82268301819641, 5.822592757013072, 5.822503040547233, 5.822413864686142, 5.822325225348102, 5.8222371184822395, 5.822149540068283, 5.822062486116307, 5.821975952666527, 5.821889935789052, 5.821804431583681, 5.82171943617966, 5.821634945735459, 5.821550956438574, 5.821467464505279, 5.821384466180422, 5.821301957737222, 5.821219935477027, 5.821138395729119, 5.821057334850517, 5.820976749225719, 5.820896635266556, 5.820816989411937, 5.820737808127678, 5.82065908790627, 5.82058082526671, 5.820503016754262, 5.820425658940283, 5.820348748422041, 5.820272281822486, 5.820196255790059, 5.8201206669985375, 5.820045512146801, 5.819970787958657, 5.819896491182663, 5.819822618591925, 5.819749166983912, 5.8196761331803, 5.819603514026731, 5.819531306392708, 5.8194595071713415, 5.819388113279214, 5.819317121656207, 5.819246529265297, 5.819176333092395, 5.819106530146183, 5.819037117457927, 5.818968092081304, 5.818899451092258, 5.818831191588805, 5.818763310690867, 5.818695805540139, 5.818628673299873, 5.818561911154776, 5.8184955163107785, 5.818429485994937, 5.818363817455237, 5.81829850796046, 5.818233554799994, 5.8181689552837055, 5.818104706741787, 5.818040806524574, 5.81797725200242, 5.817914040565533, 5.817851169623845, 5.817788636606821, 5.817726438963365, 5.817664574161623, 5.817603039688879, 5.817541833051382, 5.817480951774211, 5.817420393401154, 5.8173601554945185, 5.81730023563504, 5.817240631421714, 5.81718134047169, 5.817122360420073, 5.817063688919866, 5.817005323641769, 5.816947262274085, 5.816889502522574, 5.81683204211031, 5.816774878777584, 5.816718010281719, 5.816661434397017, 5.816605148914548, 5.816549151642073, 5.816493440403934, 5.816438013040869, 5.816382867409938, 5.816328001384381, 5.816273412853503, 5.8162190997225505, 5.816165059912575, 5.816111291360342, 5.816057792018183, 5.816004559853916, 5.815951592850671, 5.815898889006853, 5.815846446335948, 5.815794262866451, 5.815742336641749, 5.81569066572001, 5.815639248174054, 5.815588082091266, 5.815537165573469, 5.815486496736825, 5.815436073711702, 5.815385894642621, 5.815335957688092, 5.815286261020529, 5.815236802826166, 5.8151875813049125, 5.815138594670288, 5.815089841149299, 5.815041318982334, 5.814993026423073, 5.814944961738393, 5.814897123208251, 5.814849509125586, 5.814802117796246, 5.814754947538854, 5.814707996684742, 5.814661263577839, 5.8146147465745885, 5.814568444043828, 5.814522354366731, 5.814476475936691, 5.814430807159227, 5.814385346451897, 5.814340092244226, 5.814295042977587, 5.814250197105116, 5.814205553091657, 5.814161109413609, 5.814116864558912, 5.814072817026901, 5.814028965328264, 5.813985307984907, 5.813941843529936, 5.813898570507489, 5.813855487472742, 5.813812592991756, 5.813769885641434, 5.8137273640094165, 5.813685026694004, 5.8136428723041025, 5.8136008994591, 5.813559106788835, 5.813517492933471, 5.813476056543461, 5.813434796279418, 5.813393710812108, 5.813352798822309, 5.813312059000768, 5.813271490048122, 5.813231090674822, 5.813190859601049, 5.813150795556649, 5.8131108972810726, 5.813071163523285, 5.813031593041688, 5.812992184604067, 5.812952936987508, 5.812913848978357, 5.81287491937208, 5.8128361469732726, 5.812797530595557, 5.812759069061496, 5.8127207612025655, 5.81268260585905, 5.812644601879994, 5.812606748123141, 5.812569043454854, 5.812531486750068, 5.812494076892184, 5.8124568127730765, 5.812419693292959, 5.812382717360362, 5.812345883892057, 5.812309191812985, 5.812272640056234, 5.812236227562912, 5.812199953282149, 5.812163816171006, 5.81212781519441, 5.812091949325119, 5.812056217543633, 5.812020618838169, 5.81198515220457, 5.811949816646263, 5.811914611174209, 5.811879534806844, 5.811844586569988, 5.811809765496849, 5.811775070627915, 5.811740501010929, 5.81170605570083, 5.8116717337596855, 5.81163753425664, 5.811603456267886, 5.811569498876581, 5.811535661172798, 5.811501942253505, 5.811468341222462, 5.81143485719022, 5.811401489274037, 5.8113682365978265, 5.811335098292145, 5.811302073494086, 5.8112691613472816, 5.811236361001802, 5.81120367161418, 5.811171092347279, 5.811138622370309, 5.811106260858725, 5.81107400699425, 5.8110418599647495, 5.811009818964238, 5.810977883192816, 5.810946051856622, 5.810914324167785, 5.810882699344397, 5.810851176610445, 5.810819755195781, 5.810788434336062, 5.810757213272738, 5.810726091252961, 5.810695067529593, 5.810664141361118, 5.810633312011641, 5.810602578750794, 5.810571940853763, 5.810541397601165, 5.810510948279097, 5.810480592179001, 5.8104503285977, 5.810420156837319, 5.810390076205246, 5.810360086014105, 5.810330185581717, 5.810300374231051, 5.810270651290182, 5.810241016092254, 5.810211467975478, 5.810182006283023, 5.810152630363044, 5.810123339568618, 5.810094133257687, 5.81006501079306, 5.810035971542358, 5.810007014877965, 5.809978140177014, 5.809949346821347, 5.809920634197458, 5.809892001696483, 5.809863448714159, 5.809834974650788, 5.809806578911181, 5.809778260904676]\n"
          ]
        },
        {
          "output_type": "display_data",
          "data": {
            "text/plain": [
              "<Figure size 640x480 with 1 Axes>"
            ],
            "image/png": "[encoded data removed]"
          },
          "metadata": {}
        }
      ]
    },
    {
      "cell_type": "code",
      "source": [
        "X, y = prepare_data('/content/advertising.csv')\n",
        "(w1, w2, w3, b, losses) = implement_linear_regression_nsamples(X, y,\n",
        "                                                               epoch_max=1000,\n",
        "                                                               lr=1e-5)\n",
        "\n",
        "print(w1, w2, w3)"
      ],
      "metadata": {
        "colab": {
          "base_uri": "https://localhost:8080/"
        },
        "id": "89GP4BIcVnDF",
        "outputId": "5e14b832-4310-475a-b99f-22d3eabb1f94"
      },
      "execution_count": null,
      "outputs": [
        {
          "output_type": "stream",
          "name": "stdout",
          "text": [
            "0.06710990754044266 0.15756173831487585 0.029619799386084403\n"
          ]
        }
      ]
    },
    {
      "cell_type": "code",
      "source": [
        "(w1, w2, w3, b, losses) = implement_linear_regression_nsamples(X, y,\n",
        "                                                               epoch_max=1000,\n",
        "                                                               lr=1e-5)\n",
        "print(losses)\n",
        "plt.plot(losses)\n",
        "plt.xlabel(\"#epoch\")\n",
        "plt.ylabel(\"MSE Loss\")\n",
        "plt.show()"
      ],
      "metadata": {
        "id": "mTOUCJS6b_gg",
        "colab": {
          "base_uri": "https://localhost:8080/",
          "height": 488
        },
        "outputId": "aa554141-1c8e-49ff-cfc0-f0a5c25c20cb"
      },
      "execution_count": null,
      "outputs": [
        {
          "output_type": "stream",
          "name": "stdout",
          "text": [
            "[12.537758993110772, 5.905253690937074, 3.7290201321746137, 3.280103342013847, 3.1836865214240593, 3.1504551681146706, 3.1282032310037176, 3.107834776878128, 3.0877653671823877, 3.067869077619822, 3.0482166503078565, 3.02883345816351, 3.0097268958233707, 2.990926260388694, 2.9724018229858893, 2.954147483295836, 2.936159497829541, 2.9184793882434996, 2.9013201899015386, 2.8848065446993694, 2.8692913979087806, 2.8540808729447424, 2.8391539128581824, 2.824441258695949, 2.809939593214031, 2.795661552510065, 2.781611479829696, 2.7677616004414416, 2.7541088214511316, 2.7406510256334013, 2.727970116901554, 2.7155029638904806, 2.703211839174965, 2.6910940299623816, 2.6792629854501695, 2.6676459659520204, 2.6561923391983115, 2.645064404704684, 2.6341944320960224, 2.623535606535408, 2.6130255229490116, 2.6026618964920454, 2.592442478315787, 2.5823650549969863, 2.5725241259925906, 2.562865212228721, 2.553339917055549, 2.5439461929615637, 2.5347454167598515, 2.525816782277532, 2.517347376120849, 2.5089927795383775, 2.5007512434373766, 2.4926210462240466, 2.4846004933678074, 2.47670921208838, 2.4689643336060416, 2.4613225337684033, 2.453782250646995, 2.4464709851918, 2.439595238689517, 2.4328079826812123, 2.4261078899013917, 2.419577796202887, 2.4135088185678195, 2.4075160891483276, 2.4016271341324984, 2.395910398510266, 2.39026443121748, 2.3846881838681373, 2.3791806244414273, 2.373740737022908, 2.3683675215497675, 2.3630599935601264, 2.3578171839463233, 2.35263813871212, 2.3475993687443584, 2.34307099065682, 2.338636840264498, 2.334425668853236, 2.33026176128842, 2.3261444409514938, 2.3220730416902824, 2.3180469076538195, 2.31406539312978, 2.310127862384519, 2.306233689505614, 2.302382258246934, 2.298572961876149, 2.294805203024655, 2.291078393539891, 2.2873919543399936, 2.283745315270744, 2.2801379149648033, 2.276569200703163, 2.273038628278799, 2.269545661862495, 2.2660897738707733, 2.26267044483594, 2.259292547265912, 2.2559664864479405, 2.2526749655205744, 2.2494175049115954, 2.2461936324046228, 2.243002883023256, 2.239844798917083, 2.236718929249466, 2.2336248300871246, 2.230562064291473, 2.2275302014116587, 2.224528817579313, 2.2215574954049724, 2.218615823876118, 2.2157789532667964, 2.213060795157057, 2.2103687894856905, 2.207702585102212, 2.2050618361904313, 2.2024462021846203, 2.1998553476870564, 2.197288942386837, 2.1947466609800084, 2.1922281830909416, 2.1897331931949564, 2.1872613805421826, 2.184812439082601, 2.182386067392312, 2.1799819686009267, 2.177599850320143, 2.175239424573432, 2.172956587490843, 2.170707190968632, 2.1684782097706576, 2.1662693774040385, 2.1640804313900333, 2.1619783213021377, 2.1598975869338854, 2.1578353169136717, 2.1557912729796307, 2.1537761995692826, 2.1518360084540133, 2.1499124169928097, 2.1480052151482396, 2.1461141960160326, 2.1442391557760754, 2.1423798936442027, 2.140536211824737, 2.1387280455642026, 2.1369426309029844, 2.1351721166897066, 2.133425833141169, 2.1317556701056137, 2.1300988602758735, 2.1284552412350894, 2.1268246529581294, 2.125206937774312, 2.1236019403307265, 2.1220095075561085, 2.120429488625323, 2.118861734924371, 2.117306100015992, 2.1157624396057635, 2.1142449272232264, 2.112741505379898, 2.111249686496125, 2.1097693325566906, 2.1083003075633906, 2.10684247750366, 2.105395710319696, 2.103959875878074, 2.1025348459398234, 2.101120494131011, 2.0997166959137448, 2.0983233285576803, 2.09694027111195, 2.095567404377536, 2.0942046108801002, 2.0928517748432167, 2.0915087821620384, 2.09017552037739, 2.0888518786502646, 2.087537747736695, 2.0862330199630716, 2.084937589201812, 2.0836513508474255, 2.0823742017929643, 2.0811060404068353, 2.0798467665099722, 2.078596281353391, 2.077354487596078, 2.076121289283237, 2.074896591824874, 2.0736803019747283, 2.0724723278095207, 2.0712725787085495, 2.0701013033115157, 2.0689632723056097, 2.067869084268058, 2.0667821048828285, 2.0657022579597655, 2.0646294683739295, 2.063563662049222, 2.062504765942262, 2.0614527080265344, 2.060425240845721, 2.0594269914305503, 2.0584350231040163, 2.0574492721506266, 2.056469675730496, 2.05549617186597, 2.054528699428438, 2.0535671981253656, 2.052611608487506, 2.0516618718563673, 2.050717930371805, 2.0498197482898872, 2.0489311793125573, 2.0480477774668127, 2.0471694943560435, 2.0462962822249313, 2.0454280939497447, 2.0445648830287877, 2.0437066035730003, 2.0428532102966996, 2.0420241283111444, 2.0412015906434724, 2.040383820671612, 2.039570773886938, 2.0387624063696563, 2.037958674779901, 2.0371595363489665, 2.036364948870671, 2.03557487069288, 2.034789260709135, 2.034008078350426, 2.033231283577093, 2.032458836870861, 2.031690699226979, 2.030926832146502, 2.030167197628693, 2.029411758163529, 2.02866047672434, 2.0279147684310086, 2.0272004847345104, 2.0264902358410386, 2.0257839851498547, 2.0250816965375753, 2.024383334350972, 2.023688863399914, 2.0229982489503913, 2.0223114567176563, 2.021628452859484, 2.0209492039695274, 2.020273677070777, 2.0196018396091278, 2.018933659447035, 2.018269104857295, 2.017617933802181, 2.016976128057471, 2.016337742468444, 2.0157027481626866, 2.015071116630085, 2.014442819717436, 2.013817829623134, 2.0131961188919663, 2.012577660409944, 2.01196242739927, 2.0113503934133337, 2.0107415323318234, 2.0101358183558844, 2.009533226003379, 2.0089337301042, 2.008337305795671, 2.0077439285180056, 2.007153574009856, 2.006566218303904, 2.005981837722555, 2.005400408873664, 2.0048219086463535, 2.0042463142068865, 2.003673602994604, 2.003103752717924, 2.0025367413504096, 2.0019725471268965, 2.0014111485396704, 2.0008625113436835, 2.0003291042382405, 1.9997983375390183, 1.9992701911902737, 1.998744645372014, 1.998225860558845, 1.997731650106356, 1.9972399185206802, 1.9967506465654967, 1.9962638152338565, 1.9957794057447993, 1.9952973995400702, 1.9948177782808583, 1.994340523844599, 1.993865618321822, 1.9933930440130567, 1.9929227834257681, 1.992454819271357, 1.9920035079461713, 1.991559163631822, 1.9911169978739318, 1.990676994342675, 1.9902391368984635, 1.989806463939052, 1.9893956557606662, 1.9889868665199129, 1.9885800810118346, 1.9881752842091884, 1.9877724612598513, 1.9873715974842994, 1.9869726783730908, 1.986575689584403, 1.9861806169416176, 1.9857874464309233, 1.9853961641989784, 1.9850067565505825, 1.9846192099464053, 1.984233511000748, 1.9838496464793314, 1.983467603297121, 1.983087368516195, 1.9827089293436233, 1.9823322731294086, 1.9819573873644334, 1.9815842596784545, 1.9812128778381244, 1.980843229745043, 1.9804753034338256, 1.9801090870702378, 1.9797445689493156, 1.979381737493543, 1.9790205812510455, 1.9786610888938168, 1.9783032492159673, 1.977947051132016, 1.977592483675174, 1.9772395359956971, 1.9768881973592307, 1.976538457145196, 1.9761903048452019, 1.9758437300614684, 1.9754987225052911, 1.9751552719955077, 1.9748162160091125, 1.9744804494774002, 1.9741462004773611, 1.9738134591539713, 1.973482215754828, 1.973152460628725, 1.9728241842242613, 1.972497377088444, 1.972175149462371, 1.9718689379085885, 1.9715640968923966, 1.9712606176714444, 1.970958491592957, 1.9706577100924982, 1.9703582646927587, 1.97006014700235, 1.9697633487146342, 1.969467861606548, 1.9691736775374715, 1.9688807884480928, 1.9685891863592986, 1.9682988633710858, 1.9680098116614806, 1.9677220234854866, 1.967435491174025, 1.9671502071329234, 1.9668661638418936, 1.966583353853542, 1.9663017697923828, 1.9660214043538693, 1.9657422503034523, 1.9654643004756287, 1.9651875477730274, 1.9649119851655001, 1.9646376056892216, 1.9643644024458105, 1.9640923686014613, 1.9638214973860826, 1.9635517820924624, 1.9632832160754392, 1.9630157927510714, 1.962749505595858, 1.9624843481459129, 1.9622203139962107, 1.9619573967998085, 1.9616955902670852, 1.9614348881650028, 1.9611752843163617, 1.9609167725990881, 1.9606593469455118, 1.960403001341673, 1.9601477298266192, 1.9598935264917412, 1.959640385480077, 1.9593883009856794, 1.9591372672529395, 1.958887278575967, 1.9586383292979426, 1.9583904138104982, 1.9581435265531197, 1.9578976620125115, 1.9576528147220393, 1.9574089792611145, 1.9571661502546323, 1.956924322372397, 1.9566834903285604, 1.956443648881082, 1.9562047928311657, 1.9559669170227374, 1.9557300163419213, 1.9554940857165044, 1.9552591201154368, 1.955025114548326, 1.9547920640649297, 1.9545599637546798, 1.954328808746187, 1.9541084525026589, 1.9538969763819256, 1.9536863601947045, 1.9534765995477579, 1.953267690082577, 1.9530596274749603, 1.9528524074346032, 1.952646025704693, 1.9524404780615, 1.9522357603139933, 1.952031868303446, 1.951828797903054, 1.9516265450175505, 1.9514251055828424, 1.9512244755656476, 1.9510246509631133, 1.9508256278024834, 1.950627402140731, 1.9504299700642178, 1.950233327688362, 1.950037471157282, 1.9498423966434808, 1.9496481003475195, 1.9494545784976847, 1.949261827349683, 1.9490698431863234, 1.9488786223172097, 1.9486881610784286, 1.948498455832272, 1.9483095029669235, 1.948121298896165, 1.9479338400591073, 1.9477471229198977, 1.9475611439674403, 1.9473758997151203, 1.9471913867005424, 1.9470076014852544, 1.9468245406544924, 1.9466422008169086, 1.946460578604338, 1.9462796706715222, 1.9460994736958759, 1.945919984377241, 1.9457411994376397, 1.9455631156210378, 1.9453857296931114, 1.945209038441022, 1.9450330386731816, 1.9448577272190162, 1.944683100928772, 1.9445091566732737, 1.9443358913437152, 1.944163301851451, 1.9439913851277841, 1.943820138123756, 1.9436495578099473, 1.9434796411762765, 1.9433103852318012, 1.943141787004516, 1.942973843541171, 1.9428065519070754, 1.942639909185908, 1.9424739124795394, 1.9423085589078395, 1.9421438456085083, 1.941979769736886, 1.9418163284657952, 1.9416535189853525, 1.9414913385028014, 1.9413297842423547, 1.9411688534450093, 1.9410085433684046, 1.9408488512866442, 1.9406897744901466, 1.9405313102854849, 1.9403734559952297, 1.9402162089578008, 1.9400595665273128, 1.9399035260734274, 1.9397480849812068, 1.9395932406509704, 1.9394389904981473, 1.939285331953146, 1.9391322624612, 1.9389797794822383, 1.9388278804907537, 1.9386765629756653, 1.9385258244401853, 1.9383756624016855, 1.9382260743915807, 1.9380770579551887, 1.937928610651615, 1.9377807300536234, 1.9376334137475113, 1.9374866593330013, 1.937340464423109, 1.937194826644034, 1.9370497436350393, 1.936905213048338, 1.9367612325489918, 1.9366177998147722, 1.9364749125360865, 1.9363328919091134, 1.936195209970733, 1.9360580495033548, 1.935921408332908, 1.9357852842967482, 1.9356496752435624, 1.9355145790332662, 1.9353799935369234, 1.9352459166366536, 1.935112346225536, 1.9349792802075314, 1.9348467164973853, 1.9347146530205448, 1.934583087713076, 1.9344520185215783, 1.934321443403103, 1.9341913603250633, 1.9340617672651665, 1.933932662211321, 1.933804043161564, 1.9336759081239823, 1.9335482551166314, 1.9334210821674689, 1.9332943873142656, 1.9331681686045414, 1.9330424240954838, 1.9329171518538824, 1.93279234995605, 1.9326680164877612, 1.9325441495441669, 1.9324207472297399, 1.9322978076581938, 1.9321753289524297, 1.9320533092444467, 1.9319361527790333, 1.9318211242363441, 1.9317065251732033, 1.931592353864767, 1.931478608594308, 1.9313652876531586, 1.931252389340653, 1.9311399119640766, 1.9310278538386152, 1.930916213287287, 1.93080498864091, 1.9306941782380307, 1.9305837804248824, 1.930473793555336, 1.9303642159908383, 1.9302550461003738, 1.9301462822604094, 1.9300379228548414, 1.929929966274956, 1.9298224109193762, 1.9297152551940082, 1.9296084975120067, 1.929502136293724, 1.92939616996665, 1.929290596965393, 1.9291854157316066, 1.9290806247139691, 1.928976222368122, 1.92887220715663, 1.9287695877388646, 1.9286790488948977, 1.928588844675419, 1.9284989737499743, 1.9284094347941794, 1.9283202264896615, 1.9282313475240347, 1.9281427965908535, 1.928054572389578, 1.9279666736255339, 1.9278790990098706, 1.927791847259547, 1.927704917097263, 1.927618307251444, 1.9275320164562002, 1.9274460434512917, 1.9273603869820923, 1.927275045799553, 1.927190018660171, 1.9271053043259574, 1.9270209015643993, 1.9269368091484236, 1.9268530258563765, 1.9267695504719726, 1.9266863817842839, 1.926603518587685, 1.9265209596818431, 1.926438703871666, 1.9263567499672911, 1.926275096784039, 1.9261937431423872, 1.926112687867947, 1.9260319297914221, 1.9259514677485858, 1.9258713005802537, 1.9257914271322476, 1.9257118462553726, 1.9256325568053823, 1.9255535576429597, 1.92547484763368, 1.9253964256479845, 1.925318290561162, 1.9252404412533084, 1.9251628766093083, 1.9250855955188024, 1.92500859687617, 1.9249318795804922, 1.9248554425355295, 1.9247792846496983, 1.924703404836046, 1.9246278020122183, 1.924552475100447, 1.9244774230275052, 1.9244026447247007, 1.9243281391278477, 1.9242539051772374, 1.9241799418176149, 1.9241062479981523, 1.924032822672436, 1.9239596647984385, 1.923886773338484, 1.92381414725924, 1.923741785531687, 1.923669687131098, 1.9235978510370126, 1.923526276233217, 1.9234549617077321, 1.9233839064527656, 1.9233131094647147, 1.9232425697441378, 1.923172286295724, 1.9231022581282833, 1.923032484254719, 1.922962963692011, 1.9228936954611904, 1.9228246785873204, 1.9227559120994746, 1.9226873950307208, 1.9226191264181043, 1.9225511053026116, 1.9224833307291673, 1.9224158017466066, 1.9223485174076549, 1.9222814767689158, 1.9222146788908439, 1.9221481228377288, 1.9220818076776738, 1.9220157324825842, 1.9219498963281378, 1.9218842982937776, 1.9218189374626866, 1.9217538129217646, 1.9216889237616275, 1.921624269076571, 1.9215598479645593, 1.9214956595272081, 1.9214317028697778, 1.9213679771011283, 1.9213044813337277, 1.9212412146836275, 1.9211781762704374, 1.921115365217318, 1.9210527806509616, 1.9209904217015756, 1.9209282875028586, 1.9208663771919998, 1.9208046899096414, 1.9207432247998852, 1.9206819810102544, 1.9206209576916948, 1.920560153998554, 1.920499569088554, 1.9204392021227954, 1.920379052265728, 1.9203191186851363, 1.920259400552128, 1.9201998970411176, 1.9201406073298162, 1.9200815305992012, 1.9200226660335165, 1.9199640128202504, 1.919905570150127, 1.9198473372170821, 1.9197893132182555, 1.9197314973539692, 1.9196738888277296, 1.919616486846193, 1.9195592906191628, 1.9195022993595685, 1.919445512283466, 1.9193889286099977, 1.9193325475614136, 1.9192763683630205, 1.9192203902431944, 1.919164612433361, 1.919109034167971, 1.9190536546845032, 1.9189984732234366, 1.9189434890282504, 1.9188887013453977, 1.9188341094243009, 1.9187797125173345, 1.9187255098798222, 1.9186715007700024, 1.9186176844490404, 1.9185640601809915, 1.9185106272328172, 1.9184573848743418, 1.91840433237826, 1.9183514690201182, 1.918298794078301, 1.9182463068340243, 1.918194006571313, 1.9181418925770013, 1.9180899641407074, 1.9180382205548363, 1.9179866611145535, 1.9179352851177836, 1.9178840918651892, 1.9178330806601702, 1.9177822508088445, 1.9177316016200314, 1.9176811324052607, 1.9176308424787303, 1.9175807311573225, 1.9175307977605842, 1.9174810416107047, 1.9174314620325146, 1.9173820583534793, 1.917332829903674, 1.9172837760157848, 1.9172348960250911, 1.9171861892694553, 1.9171387323868732, 1.917093744832617, 1.9170489156782815, 1.91700424432096, 1.916959730160086, 1.9169153725974186, 1.9168711710370383, 1.9168271248853417, 1.9167832335510187, 1.9167394964450577, 1.9166959129807208, 1.9166524825735534, 1.9166092046413519, 1.9165660786041763, 1.9165231038843231, 1.9164802799063279, 1.916437606096951, 1.9163950818851714, 1.9163527067021717, 1.9163104799813337, 1.9162684011582294, 1.9162264696706148, 1.9161846849584057, 1.9161430464636942, 1.9161015536307135, 1.9160602059058527, 1.9160190027376283, 1.915977943576684, 1.9159370278757892, 1.9158962550898162, 1.915855624675738, 1.9158151360926297, 1.9157747888016377, 1.915734582265992, 1.9156945159509862, 1.915654589323978, 1.915619407514559, 1.9155844629103171, 1.915549638899983, 1.915514935025456, 1.9154803508303972, 1.915445885860228, 1.9154115396621165, 1.9153773117849766, 1.9153432017794512, 1.915309209197919, 1.9152753335944732, 1.9152415745249254, 1.9152079315467905, 1.9151744042192878, 1.915140992103327, 1.9151076947615095, 1.9150745117581105, 1.9150414426590825, 1.9150084870320407, 1.9149756444462662, 1.9149429144726864, 1.914910296683881, 1.9148777906540646, 1.9148453959590892, 1.9148131121764294, 1.914780938885186, 1.914748875666068, 1.9147169221013933, 1.9146850777750828, 1.9146533422726486, 1.914621715181195, 1.9145901960894045, 1.9145587845875347, 1.9145274802674188, 1.9144962827224459, 1.9144651915475648, 1.9144342063392759, 1.91440332669562, 1.914372552216185, 1.9143418825020801, 1.914311317155946, 1.9142808557819497, 1.9142504979857586, 1.914220243374559, 1.914190091557036, 1.9141600421433715, 1.914130094745235, 1.9141002489757855, 1.9140705044496564, 1.914040860782951, 1.914011317593252, 1.913981874499589, 1.9139525311224552, 1.913923287083787, 1.9138941420069768, 1.91386509551684, 1.9138361472396344, 1.913807296803043, 1.9137785438361687, 1.91374988796953, 1.9137213288350594, 1.913692866066088, 1.9136644992973533, 1.9136362281649792, 1.913608052306482, 1.9135799713607622, 1.9135519849680909, 1.9135240927701198, 1.9134962944098635, 1.9134685895316954, 1.9134409777813481, 1.9134134588059042, 1.91338603225379, 1.9133586977747765, 1.913331455019964, 1.9133043036417843, 1.913277243293996, 1.9132502736316732, 1.913223394311212, 1.9131966049903033, 1.9131699053279567, 1.9131432949844753, 1.9131167736214516, 1.9130903409017745, 1.913063996489609, 1.9130377400504088, 1.913011571250888, 1.9129854897590421, 1.912959495244125, 1.912933587376652, 1.912907765828386, 1.9128820302723486, 1.912856380382798, 1.912830815835238, 1.9128053363064017, 1.9127799414742612, 1.912754631018, 1.9127294046180328, 1.9127042619559904, 1.912679202714709, 1.9126542265782331, 1.9126293332318085, 1.9126045223618824, 1.9125797936560902, 1.9125551468032551, 1.912530581493384, 1.9125060974176664, 1.9124816942684593, 1.9124573717392916, 1.9124331295248624, 1.9124089673210238, 1.9123848848247915, 1.9123608817343238, 1.9123369577489353, 1.912313112569075, 1.912289345896339, 1.9122656574334507, 1.9122420468842665, 1.9122185139537633, 1.9121950583480447, 1.912171679774333, 1.9121483779409516, 1.9121251525573404, 1.912102003334046, 1.912078929982703, 1.912055932216055, 1.9120330097479243, 1.91201016229323, 1.911987389567966, 1.9119646912892079, 1.9119420671751117, 1.9119195169448926, 1.9118970403188387, 1.911874637018299, 1.911852306765678, 1.91183004928444, 1.9118078642990952, 1.9117857515351968, 1.9117637107193437, 1.9117417415791729, 1.9117198438433536, 1.9116980172415843, 1.9116762615045926, 1.911654576364123, 1.9116329615529446, 1.9116114168048344, 1.9115899418545852, 1.9115685364379877, 1.9115472002918454, 1.9115259331539545, 1.9115047347631065, 1.9114836048590853, 1.9114625431826646, 1.911441549475594, 1.9114206234806124, 1.9113997649414227, 1.911378973602713, 1.9113582492101304, 1.9113375915102935, 1.9113170002507764, 1.9112964751801147, 1.9112760160477955, 1.9112556226042552, 1.9112352946008795, 1.911215031789994, 1.9111948339248668, 1.911174700759704, 1.9111546320496324, 1.9111346275507202, 1.9111146870199502, 1.9110948102152385, 1.911074996895408, 1.9110552468202024, 1.9110355597502702, 1.9110159354471754, 1.9109963736733817, 1.9109768741922537, 1.910957436768052, 1.9109380611659328, 1.9109187471519393, 1.9108994944930087, 1.910880302956956, 1.9108611723124744, 1.91084210232914, 1.9108230927773961, 1.910804143428561, 1.9107852540548196, 1.9107664244292186, 1.9107476543256618, 1.9107289435189136, 1.9107102917845924, 1.9106916988991673, 1.9106731646399504, 1.9106559896954378, 1.9106396624021027, 1.9106233850404035, 1.9106071574213899, 1.9105909793568312, 1.9105748506592044, 1.9105587711417045, 1.9105427406182296, 1.9105267589033865]\n"
          ]
        },
        {
          "output_type": "display_data",
          "data": {
            "text/plain": [
              "<Figure size 640x480 with 1 Axes>"
            ],
            "image/png": "[encoded data removed]"
          },
          "metadata": {}
        }
      ]
    },
    {
      "cell_type": "markdown",
      "source": [
        "# Bài tập 4"
      ],
      "metadata": {
        "id": "4vHMt5liXDM7"
      }
    },
    {
      "cell_type": "code",
      "source": [
        "def prepare_data(file_name_dataset):\n",
        "    data = np.genfromtxt(file_name_dataset, delimiter=',',\n",
        "                         skip_header=1).tolist()\n",
        "    N = len(data)\n",
        "\n",
        "    # get tv (index = 0)\n",
        "    tv_data = get_column(data, 0)\n",
        "\n",
        "    # get radio (index = 1)\n",
        "    radio_data = get_column(data, 1)\n",
        "\n",
        "    # get newspaper (index = 2)\n",
        "    newspaper_data = get_column(data, 2)\n",
        "\n",
        "    # get sales (index = 3)\n",
        "    sales_data = get_column(data, 3)\n",
        "\n",
        "    # building X input and y output for training\n",
        "    # Create list of features for input\n",
        "    X = [[1 , x1 , x2 , x3 ] for x1 , x2 , x3 in zip( tv_data , radio_data , newspaper_data)]\n",
        "    y = sales_data\n",
        "    return X, y"
      ],
      "metadata": {
        "id": "beesDGXAXEOb"
      },
      "execution_count": null,
      "outputs": []
    },
    {
      "cell_type": "code",
      "source": [
        "def initialize_params () :\n",
        "    bias = 0\n",
        "    w1 = random.gauss(mu=0.0, sigma=0.01)\n",
        "    w2 = random.gauss(mu=0.0, sigma=0.01)\n",
        "    w3 = random.gauss(mu=0.0, sigma=0.01)\n",
        "\n",
        "    # comment this line for real application\n",
        "    return [0, -0.01268850433497871, 0.004752496982185252, 0.0073796171538643845]\n",
        "    # return [bias , w1 , w2 , w3]"
      ],
      "metadata": {
        "id": "6Z5KYimdhYwS"
      },
      "execution_count": null,
      "outputs": []
    },
    {
      "cell_type": "code",
      "source": [
        "# predict output by using y = x0*b + x1*w1 + x2*w2 + x3*ư3\n",
        "\n",
        "def predict(X_features, weights):\n",
        "  # your code here\n",
        "  result = sum([f*w for f, w in zip(X_features, weights)])\n",
        "  return result\n",
        "\n",
        "def compute_loss(y_hat, y):\n",
        "  return (y_hat - y)**2\n",
        "\n",
        "# compute gradient\n",
        "def compute_gradient_w(X_features, y, y_hat):\n",
        "  # your code here\n",
        "  dl_dweights = [2*(y_hat-y)*xi for xi in X_features]\n",
        "  return dl_dweights\n",
        "\n",
        "# update weights\n",
        "def update_weight(weights, dl_dweights, lr):\n",
        "  # your code here\n",
        "  weights = [w - lr*dw for w, dw in zip(weights, dl_dweights)]\n",
        "  return weights"
      ],
      "metadata": {
        "id": "kxa-dCM-hZul"
      },
      "execution_count": null,
      "outputs": []
    },
    {
      "cell_type": "code",
      "source": [
        "def implement_linear_regression(X_feature, y_ouput, epoch_max=50 , lr=1e-5) :\n",
        "\n",
        "    losses = []\n",
        "    weights = initialize_params()\n",
        "    N = len(y_ouput)\n",
        "    for epoch in range(epoch_max):\n",
        "        print(\"epoch\", epoch)\n",
        "        for i in range ( N ) :\n",
        "            # get a sample - row i\n",
        "            features_i = X_feature[i]\n",
        "            y = y_ouput[i]\n",
        "\n",
        "            # compute output\n",
        "            y_hat = predict(features_i, weights)\n",
        "\n",
        "            # compute loss\n",
        "            loss = compute_loss(y, y_hat)\n",
        "\n",
        "            # compute gradient w1 , w2 , w3 , b\n",
        "            dl_dweights = compute_gradient_w(features_i, y, y_hat)\n",
        "\n",
        "            # update parameters\n",
        "            weights = update_weight(weights, dl_dweights, lr)\n",
        "\n",
        "            # logging\n",
        "            losses.append(loss)\n",
        "    return weights , losses\n",
        "\n",
        "X, y = prepare_data('advertising.csv')\n",
        "W, L = implement_linear_regression(X , y)\n",
        "plt.plot(L[0:100])\n",
        "plt.xlabel(\"#iteration\")\n",
        "plt.ylabel(\"Loss\")\n",
        "plt.show()"
      ],
      "metadata": {
        "id": "NNH9rVgQluQl",
        "colab": {
          "base_uri": "https://localhost:8080/",
          "height": 1000
        },
        "outputId": "9fda548e-f6fa-4d85-9b36-547b53a45d4b"
      },
      "execution_count": null,
      "outputs": [
        {
          "output_type": "stream",
          "name": "stdout",
          "text": [
            "epoch 0\n",
            "epoch 1\n",
            "epoch 2\n",
            "epoch 3\n",
            "epoch 4\n",
            "epoch 5\n",
            "epoch 6\n",
            "epoch 7\n",
            "epoch 8\n",
            "epoch 9\n",
            "epoch 10\n",
            "epoch 11\n",
            "epoch 12\n",
            "epoch 13\n",
            "epoch 14\n",
            "epoch 15\n",
            "epoch 16\n",
            "epoch 17\n",
            "epoch 18\n",
            "epoch 19\n",
            "epoch 20\n",
            "epoch 21\n",
            "epoch 22\n",
            "epoch 23\n",
            "epoch 24\n",
            "epoch 25\n",
            "epoch 26\n",
            "epoch 27\n",
            "epoch 28\n",
            "epoch 29\n",
            "epoch 30\n",
            "epoch 31\n",
            "epoch 32\n",
            "epoch 33\n",
            "epoch 34\n",
            "epoch 35\n",
            "epoch 36\n",
            "epoch 37\n",
            "epoch 38\n",
            "epoch 39\n",
            "epoch 40\n",
            "epoch 41\n",
            "epoch 42\n",
            "epoch 43\n",
            "epoch 44\n",
            "epoch 45\n",
            "epoch 46\n",
            "epoch 47\n",
            "epoch 48\n",
            "epoch 49\n"
          ]
        },
        {
          "output_type": "display_data",
          "data": {
            "text/plain": [
              "<Figure size 640x480 with 1 Axes>"
            ],
            "image/png": "[encoded data removed]"
          },
          "metadata": {}
        }
      ]
    },
    {
      "cell_type": "code",
      "source": [
        "X, y = prepare_data('advertising.csv')\n",
        "W, L = implement_linear_regression(X, y, epoch_max=50, lr =1e-5)\n",
        "# Print loss value at iteration 9999\n",
        "print(L[9999])"
      ],
      "metadata": {
        "colab": {
          "base_uri": "https://localhost:8080/"
        },
        "id": "GTxNnDftWgA9",
        "outputId": "6a740ebe-c305-4a12-d575-c65f988130a5"
      },
      "execution_count": null,
      "outputs": [
        {
          "output_type": "stream",
          "name": "stdout",
          "text": [
            "epoch 0\n",
            "epoch 1\n",
            "epoch 2\n",
            "epoch 3\n",
            "epoch 4\n",
            "epoch 5\n",
            "epoch 6\n",
            "epoch 7\n",
            "epoch 8\n",
            "epoch 9\n",
            "epoch 10\n",
            "epoch 11\n",
            "epoch 12\n",
            "epoch 13\n",
            "epoch 14\n",
            "epoch 15\n",
            "epoch 16\n",
            "epoch 17\n",
            "epoch 18\n",
            "epoch 19\n",
            "epoch 20\n",
            "epoch 21\n",
            "epoch 22\n",
            "epoch 23\n",
            "epoch 24\n",
            "epoch 25\n",
            "epoch 26\n",
            "epoch 27\n",
            "epoch 28\n",
            "epoch 29\n",
            "epoch 30\n",
            "epoch 31\n",
            "epoch 32\n",
            "epoch 33\n",
            "epoch 34\n",
            "epoch 35\n",
            "epoch 36\n",
            "epoch 37\n",
            "epoch 38\n",
            "epoch 39\n",
            "epoch 40\n",
            "epoch 41\n",
            "epoch 42\n",
            "epoch 43\n",
            "epoch 44\n",
            "epoch 45\n",
            "epoch 46\n",
            "epoch 47\n",
            "epoch 48\n",
            "epoch 49\n",
            "31.339223408109948\n"
          ]
        }
      ]
    }
  ]
}