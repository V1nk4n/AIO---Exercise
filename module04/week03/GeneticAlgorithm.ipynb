{
  "nbformat": 4,
  "nbformat_minor": 0,
  "metadata": {
    "colab": {
      "provenance": []
    },
    "kernelspec": {
      "name": "python3",
      "display_name": "Python 3"
    },
    "language_info": {
      "name": "python"
    }
  },
  "cells": [
    {
      "cell_type": "markdown",
      "source": [
        "## Question 1"
      ],
      "metadata": {
        "id": "x26TWaLCUJG7"
      }
    },
    {
      "cell_type": "markdown",
      "source": [
        "# Bài tập 1"
      ],
      "metadata": {
        "id": "JAD6NA0jUOs3"
      }
    },
    {
      "cell_type": "code",
      "execution_count": null,
      "metadata": {
        "id": "O8Uve3ZcTyZU"
      },
      "outputs": [],
      "source": [
        "import numpy as np\n",
        "import matplotlib . pyplot as plt\n",
        "import random\n",
        "random.seed (0) # please do not remove this line\n",
        "%matplotlib inline\n",
        "\n",
        "def load_data_from_file(fileName=\"/content/advertising.csv\"):\n",
        "  data = np.genfromtxt(fileName, dtype=None, delimiter=',', skip_header=1)\n",
        "  features_X = data[:, :3]\n",
        "  sales_Y = data[:, 3]\n",
        "\n",
        "\n",
        "  # ****** your code here ******************\n",
        "  features_X = np.insert(features_X, 0, 1, axis=1)\n",
        "\n",
        "  return features_X , sales_Y"
      ]
    },
    {
      "cell_type": "markdown",
      "source": [
        "## Question 2"
      ],
      "metadata": {
        "id": "yjRTCdtuUaYm"
      }
    },
    {
      "cell_type": "code",
      "source": [
        "features_X , _ = load_data_from_file()\n",
        "print(features_X[:5 ,:])"
      ],
      "metadata": {
        "colab": {
          "base_uri": "https://localhost:8080/"
        },
        "id": "Rjj-EYHgu21c",
        "outputId": "5ebcf072-d79d-463b-a51c-f00561309d94"
      },
      "execution_count": null,
      "outputs": [
        {
          "output_type": "stream",
          "name": "stdout",
          "text": [
            "[[  1.  230.1  37.8  69.2]\n",
            " [  1.   44.5  39.3  45.1]\n",
            " [  1.   17.2  45.9  69.3]\n",
            " [  1.  151.5  41.3  58.5]\n",
            " [  1.  180.8  10.8  58.4]]\n"
          ]
        }
      ]
    },
    {
      "cell_type": "markdown",
      "source": [
        "## Question 3"
      ],
      "metadata": {
        "id": "qocPjjMkUcnY"
      }
    },
    {
      "cell_type": "code",
      "source": [
        "_ , sales_Y = load_data_from_file()\n",
        "print(sales_Y.shape)"
      ],
      "metadata": {
        "colab": {
          "base_uri": "https://localhost:8080/"
        },
        "id": "Dd1eGXPEwZ48",
        "outputId": "a7780c59-b734-4890-e2eb-35aac68614a4"
      },
      "execution_count": null,
      "outputs": [
        {
          "output_type": "stream",
          "name": "stdout",
          "text": [
            "(200,)\n"
          ]
        }
      ]
    },
    {
      "cell_type": "markdown",
      "source": [
        "# Bài tập 2"
      ],
      "metadata": {
        "id": "lF7mKtiuUfk-"
      }
    },
    {
      "cell_type": "code",
      "source": [
        "def create_individual(n=4, bound=10):\n",
        "  individual = []\n",
        "  # *************** Your code here *******\n",
        "  individual = [random.uniform(0, bound) for _ in range(n)]\n",
        "  return individual\n",
        "\n",
        "individual = create_individual()\n",
        "print(individual)\n",
        "# sample result : [[4.097462559682401, 4.827854760376531, 3.1021723599658957, 4.021659504395827]]"
      ],
      "metadata": {
        "id": "BccsY4PzUj8s",
        "colab": {
          "base_uri": "https://localhost:8080/"
        },
        "outputId": "8e4a5a0f-46fd-46a9-bcc4-d2f197a21c52"
      },
      "execution_count": null,
      "outputs": [
        {
          "output_type": "stream",
          "name": "stdout",
          "text": [
            "[8.444218515250482, 7.579544029403024, 4.20571580830845, 2.5891675029296337]\n"
          ]
        }
      ]
    },
    {
      "cell_type": "markdown",
      "source": [
        "# Bài tập 3"
      ],
      "metadata": {
        "id": "sBcVwlkDUhF1"
      }
    },
    {
      "cell_type": "code",
      "source": [
        "features_X, sales_Y = load_data_from_file()\n",
        "def compute_loss(individual):\n",
        "  theta = np.array(individual)\n",
        "  y_hat = features_X.dot(theta)\n",
        "  loss = np.multiply((y_hat-sales_Y), (y_hat-sales_Y)).mean()\n",
        "  return loss\n",
        "\n",
        "def compute_fitness(individual):\n",
        "  loss = compute_loss(individual)\n",
        "  fitness_value = 0\n",
        "  # ************ your code here ************\n",
        "  fitness_value = 1 / (1+loss)\n",
        "  return fitness_value"
      ],
      "metadata": {
        "id": "mMwribeLUXgc"
      },
      "execution_count": null,
      "outputs": []
    },
    {
      "cell_type": "markdown",
      "source": [
        "## Question 4"
      ],
      "metadata": {
        "id": "7Ni2_DLXUq-I"
      }
    },
    {
      "cell_type": "code",
      "source": [
        "features_X, sales_Y = load_data_from_file()\n",
        "individual = [4.09, 4.82, 3.10, 4.02]\n",
        "fitness_score = compute_fitness(individual)\n",
        "print(fitness_score)"
      ],
      "metadata": {
        "id": "mriVXECAUskb",
        "colab": {
          "base_uri": "https://localhost:8080/"
        },
        "outputId": "5d4edaae-add4-4f31-f4a1-8f2d13b6047a"
      },
      "execution_count": null,
      "outputs": [
        {
          "output_type": "stream",
          "name": "stdout",
          "text": [
            "1.0185991537088997e-06\n"
          ]
        }
      ]
    },
    {
      "cell_type": "markdown",
      "source": [
        "# Bài tập 4"
      ],
      "metadata": {
        "id": "qmbpWt7AUtzo"
      }
    },
    {
      "cell_type": "code",
      "source": [
        "def crossover(individual1, individual2, crossover_rate=0.9):\n",
        "  individual1_new = individual1.copy()\n",
        "  individual2_new = individual2.copy()\n",
        "  #*************** Your code here **************\n",
        "  if random.random() < crossover_rate:\n",
        "    index = random.randint(1, len(individual1) - 1)\n",
        "    individual1_new[index:], individual2_new[index:] = individual2_new[index:], individual1_new[index:]\n",
        "\n",
        "  return individual1_new, individual2_new"
      ],
      "metadata": {
        "id": "4J2xOu9qUvLA"
      },
      "execution_count": null,
      "outputs": []
    },
    {
      "cell_type": "markdown",
      "source": [
        "## Question 5"
      ],
      "metadata": {
        "id": "PRzyzJsUUziB"
      }
    },
    {
      "cell_type": "code",
      "source": [
        "# question 5\n",
        "individual1 = [4.09 , 4.82 , 3.10 , 4.02]\n",
        "individual2 = [3.44 , 2.57 , -0.79 , -2.41]\n",
        "individual1 , individual2 = crossover(individual1, individual2, 2.0)\n",
        "print (\"individual1: \" , individual1)\n",
        "print (\"individual2: \" , individual2)"
      ],
      "metadata": {
        "id": "OeM8wWQIUxly",
        "colab": {
          "base_uri": "https://localhost:8080/"
        },
        "outputId": "ba74da5f-a054-4b37-dad9-f9e6863e0e0e"
      },
      "execution_count": null,
      "outputs": [
        {
          "output_type": "stream",
          "name": "stdout",
          "text": [
            "individual1:  [4.09, 4.82, -0.79, -2.41]\n",
            "individual2:  [3.44, 2.57, 3.1, 4.02]\n"
          ]
        }
      ]
    },
    {
      "cell_type": "markdown",
      "source": [
        "# Bài tập 5"
      ],
      "metadata": {
        "id": "ne7u1BGXU2oc"
      }
    },
    {
      "cell_type": "code",
      "source": [
        "def mutate(individual, mutation_rate=0.05) :\n",
        "  individual_m = individual.copy()\n",
        "  # ******** Your code here ******************\n",
        "  for i in range(len(individual)):\n",
        "    if random.random() < mutation_rate:\n",
        "      individual_m[i] = random.uniform(0, 10)\n",
        "  return individual_m"
      ],
      "metadata": {
        "id": "gYqCqctFU3wC"
      },
      "execution_count": null,
      "outputs": []
    },
    {
      "cell_type": "markdown",
      "source": [
        "## Question 6"
      ],
      "metadata": {
        "id": "rMEBc74gVDkj"
      }
    },
    {
      "cell_type": "code",
      "source": [
        "before_individual = [4.09, 4.82, 3.10, 4.02]\n",
        "after_individual = mutate(individual, mutation_rate=2.0)\n",
        "print(before_individual == after_individual)"
      ],
      "metadata": {
        "id": "kxjz9G-wVHWQ",
        "colab": {
          "base_uri": "https://localhost:8080/"
        },
        "outputId": "b8cc7b97-8fe6-4458-8245-d5a81819ae2d"
      },
      "execution_count": null,
      "outputs": [
        {
          "output_type": "stream",
          "name": "stdout",
          "text": [
            "False\n"
          ]
        }
      ]
    },
    {
      "cell_type": "markdown",
      "source": [
        "# Bài tập 6"
      ],
      "metadata": {
        "id": "RFB3T-EuVKOA"
      }
    },
    {
      "cell_type": "code",
      "source": [
        "def initializePopulation(m):\n",
        "  population = [create_individual() for _ in range(m)]\n",
        "  return population"
      ],
      "metadata": {
        "id": "SCRpfclgVLkI"
      },
      "execution_count": null,
      "outputs": []
    },
    {
      "cell_type": "markdown",
      "source": [
        "# Bài tập 7"
      ],
      "metadata": {
        "id": "4SjxX7k7VPGY"
      }
    },
    {
      "cell_type": "code",
      "source": [
        "def selection(sorted_old_population, m = 100):\n",
        "  index1 = random.randint(0, m-1)\n",
        "  while True:\n",
        "    index2 = random.randint(0, m-1)\n",
        "    if (index2 != index1):\n",
        "      break\n",
        "    individual_s = sorted_old_population[index1]\n",
        "    if index2 > index1:\n",
        "      individual_s = sorted_old_population[index2]\n",
        "  return individual_s"
      ],
      "metadata": {
        "id": "XyiT1hfVVQY3"
      },
      "execution_count": null,
      "outputs": []
    },
    {
      "cell_type": "markdown",
      "source": [
        "# Bài tập 8"
      ],
      "metadata": {
        "id": "praBupAwVSVg"
      }
    },
    {
      "cell_type": "code",
      "source": [
        "def create_new_population(old_population, elitism=2, gen=1):\n",
        "  m = len(old_population)\n",
        "  sorted_population = sorted(old_population, key=compute_fitness)\n",
        "  if gen%1 == 0:\n",
        "    print(\"Best loss:\", compute_loss(sorted_population[m -1]), \"with chromsome: \", sorted_population[m-1])\n",
        "\n",
        "  new_population = []\n",
        "  while len(new_population) < m-elitism:\n",
        "    # selection\n",
        "    # **************** your code here ****************\n",
        "    parent1 = random.choice(sorted_population[m//2:])\n",
        "    parent2 = random.choice(sorted_population[m//2:])\n",
        "    # crossover\n",
        "    # **************** your code here ****************\n",
        "    child1, child2 = crossover(parent1, parent2)\n",
        "    # mutation\n",
        "    # **************** your code here ****************\n",
        "    child1 = mutate(child1)\n",
        "    child2 = mutate(child2)\n",
        "    new_population.append(child1)\n",
        "    if len(new_population) < m - elitism:\n",
        "      new_population.append(child2)\n",
        "\n",
        "    # copy elitism chromosomes that have best fitness score to the next generation\n",
        "  for ind in sorted_population [m-elitism:]:\n",
        "    # **************** your code here ****************\n",
        "    new_population.append(ind)\n",
        "\n",
        "  return new_population, compute_loss(sorted_population[m -1])"
      ],
      "metadata": {
        "id": "coRnbrNZVTkS"
      },
      "execution_count": null,
      "outputs": []
    },
    {
      "cell_type": "markdown",
      "source": [
        "## Question 7"
      ],
      "metadata": {
        "id": "v_DSrlvxVVbW"
      }
    },
    {
      "cell_type": "code",
      "source": [
        "individual1 = [4.09, 4.82, 3.10, 4.02]\n",
        "individual2 = [3.44, 2.57, -0.79, -2.41]\n",
        "old_population = [individual1, individual2]\n",
        "new_population , _ = create_new_population(old_population, elitism=2, gen=1)"
      ],
      "metadata": {
        "id": "G-8-TGPwVXEa",
        "colab": {
          "base_uri": "https://localhost:8080/"
        },
        "outputId": "1322eef8-1134-45b3-a203-9a6545a0c43e"
      },
      "execution_count": null,
      "outputs": [
        {
          "output_type": "stream",
          "name": "stdout",
          "text": [
            "Best loss: 123415.051528805 with chromsome:  [3.44, 2.57, -0.79, -2.41]\n"
          ]
        }
      ]
    },
    {
      "cell_type": "markdown",
      "source": [
        "# Bài tập 9"
      ],
      "metadata": {
        "id": "KRzWaFjYVbJ8"
      }
    },
    {
      "cell_type": "code",
      "source": [
        "def run_GA():\n",
        "  n_generations = 100\n",
        "  m = 600\n",
        "  features_X, sales_Y = load_data_from_file()\n",
        "  population = initializePopulation(m)\n",
        "  losses_list = []\n",
        "  for i in range ( n_generations ) :\n",
        "    # *********** your code here *************\n",
        "    fitness_scores = [compute_fitness(ind) for ind in population]\n",
        "\n",
        "    best_loss = compute_loss(population[np.argmin(fitness_scores)])\n",
        "    losses_list.append(best_loss)\n",
        "\n",
        "    population, best_loss_current_gen = create_new_population(population, elitism=2, gen=i)\n",
        "    print(\"Generation:\", i, \"Best loss:\", best_loss_current_gen)\n",
        "  return losses_list"
      ],
      "metadata": {
        "id": "zIbyH_ikVYcm"
      },
      "execution_count": null,
      "outputs": []
    },
    {
      "cell_type": "markdown",
      "source": [
        "# Bài tập 10"
      ],
      "metadata": {
        "id": "GBpkfN-KVdly"
      }
    },
    {
      "cell_type": "code",
      "source": [
        "import matplotlib.pyplot as plt\n",
        "\n",
        "def visualize_loss(losses_list):\n",
        "  # *********** your code here *************\n",
        "  plt.figure(figsize=(10, 6))\n",
        "  plt.plot(losses_list, color='blue', marker='o', linestyle='-')\n",
        "  plt.title('Loss Over Generations')\n",
        "  plt.xlabel('Generation')\n",
        "  plt.ylabel('Loss')\n",
        "  plt.grid(True)\n",
        "  plt.xticks(range(len(losses_list)))\n",
        "  plt.show()\n",
        "\n",
        "losses_list = run_GA()\n",
        "visualize_loss(losses_list)"
      ],
      "metadata": {
        "id": "7yKOtvFTVdGb",
        "colab": {
          "base_uri": "https://localhost:8080/",
          "height": 1000
        },
        "outputId": "bc9a03a7-a3e3-4397-8aa1-b8bcf6b0773e"
      },
      "execution_count": null,
      "outputs": [
        {
          "output_type": "stream",
          "name": "stdout",
          "text": [
            "Best loss: 15155.10617745696 with chromsome:  [6.03977387811875, 0.0006916287448366365, 0.3891018401520452, 3.259439044599104]\n",
            "Generation: 0 Best loss: 15155.10617745696\n",
            "Best loss: 2870.168281015046 with chromsome:  [6.684886667173141, 0.002532098932251925, 1.675110935486388, 0.4713339199905531]\n",
            "Generation: 1 Best loss: 2870.168281015046\n",
            "Best loss: 2699.388732597643 with chromsome:  [6.03977387811875, 0.0006916287448366365, 0.3891018401520452, 1.3558077637136434]\n",
            "Generation: 2 Best loss: 2699.388732597643\n",
            "Best loss: 313.79591437972283 with chromsome:  [6.03977387811875, 0.0006916287448366365, 0.3891018401520452, 0.4223511400675217]\n",
            "Generation: 3 Best loss: 313.79591437972283\n",
            "Best loss: 192.94171298856804 with chromsome:  [6.03977387811875, 0.0006916287448366365, 0.3891018401520452, 0.31122141472294196]\n",
            "Generation: 4 Best loss: 192.94171298856804\n",
            "Best loss: 96.51218461410737 with chromsome:  [6.03977387811875, 0.0006916287448366365, 0.3891018401520452, 0.18278577933135476]\n",
            "Generation: 5 Best loss: 96.51218461410737\n",
            "Best loss: 96.51218461410737 with chromsome:  [6.03977387811875, 0.0006916287448366365, 0.3891018401520452, 0.18278577933135476]\n",
            "Generation: 6 Best loss: 96.51218461410737\n",
            "Best loss: 38.80542372283351 with chromsome:  [6.684886667173141, 0.002532098932251925, 0.14729286743825787, 0.18278577933135476]\n",
            "Generation: 7 Best loss: 38.80542372283351\n",
            "Best loss: 16.35844023694071 with chromsome:  [8.65969855950611, 0.012388463551031847, 0.14729286743825787, 0.02018126354642602]\n",
            "Generation: 8 Best loss: 16.35844023694071\n",
            "Best loss: 16.35844023694071 with chromsome:  [8.65969855950611, 0.012388463551031847, 0.14729286743825787, 0.02018126354642602]\n",
            "Generation: 9 Best loss: 16.35844023694071\n",
            "Best loss: 13.370189622235653 with chromsome:  [5.1241102326826695, 0.06439244314443648, 0.03232100641658797, 0.07975563271509278]\n",
            "Generation: 10 Best loss: 13.370189622235653\n",
            "Best loss: 10.412863940068485 with chromsome:  [1.7774199508062716, 0.06439244314443648, 0.03232100641658797, 0.12441234482642782]\n",
            "Generation: 11 Best loss: 10.412863940068485\n",
            "Best loss: 4.445358719718055 with chromsome:  [2.0573574066904756, 0.06439244314443648, 0.14729286743825787, 0.02018126354642602]\n",
            "Generation: 12 Best loss: 4.445358719718055\n",
            "Best loss: 4.445358719718055 with chromsome:  [2.0573574066904756, 0.06439244314443648, 0.14729286743825787, 0.02018126354642602]\n",
            "Generation: 13 Best loss: 4.445358719718055\n",
            "Best loss: 4.445358719718055 with chromsome:  [2.0573574066904756, 0.06439244314443648, 0.14729286743825787, 0.02018126354642602]\n",
            "Generation: 14 Best loss: 4.445358719718055\n",
            "Best loss: 4.344639795704366 with chromsome:  [1.9214619817742162, 0.06439244314443648, 0.14729286743825787, 0.02018126354642602]\n",
            "Generation: 15 Best loss: 4.344639795704366\n",
            "Best loss: 4.344639795704366 with chromsome:  [1.9214619817742162, 0.06439244314443648, 0.14729286743825787, 0.02018126354642602]\n",
            "Generation: 16 Best loss: 4.344639795704366\n",
            "Best loss: 4.344639795704366 with chromsome:  [1.9214619817742162, 0.06439244314443648, 0.14729286743825787, 0.02018126354642602]\n",
            "Generation: 17 Best loss: 4.344639795704366\n",
            "Best loss: 4.278205772516373 with chromsome:  [1.7774199508062716, 0.06439244314443648, 0.14729286743825787, 0.02018126354642602]\n",
            "Generation: 18 Best loss: 4.278205772516373\n",
            "Best loss: 4.278205772516373 with chromsome:  [1.7774199508062716, 0.06439244314443648, 0.14729286743825787, 0.02018126354642602]\n",
            "Generation: 19 Best loss: 4.278205772516373\n",
            "Best loss: 4.278205772516373 with chromsome:  [1.7774199508062716, 0.06439244314443648, 0.14729286743825787, 0.02018126354642602]\n",
            "Generation: 20 Best loss: 4.278205772516373\n",
            "Best loss: 4.278205772516373 with chromsome:  [1.7774199508062716, 0.06439244314443648, 0.14729286743825787, 0.02018126354642602]\n",
            "Generation: 21 Best loss: 4.278205772516373\n",
            "Best loss: 4.278205772516373 with chromsome:  [1.7774199508062716, 0.06439244314443648, 0.14729286743825787, 0.02018126354642602]\n",
            "Generation: 22 Best loss: 4.278205772516373\n",
            "Best loss: 4.278205772516373 with chromsome:  [1.7774199508062716, 0.06439244314443648, 0.14729286743825787, 0.02018126354642602]\n",
            "Generation: 23 Best loss: 4.278205772516373\n",
            "Best loss: 4.278205772516373 with chromsome:  [1.7774199508062716, 0.06439244314443648, 0.14729286743825787, 0.02018126354642602]\n",
            "Generation: 24 Best loss: 4.278205772516373\n",
            "Best loss: 4.278205772516373 with chromsome:  [1.7774199508062716, 0.06439244314443648, 0.14729286743825787, 0.02018126354642602]\n",
            "Generation: 25 Best loss: 4.278205772516373\n",
            "Best loss: 4.255661975249293 with chromsome:  [1.5677902786560427, 0.06439244314443648, 0.14729286743825787, 0.02018126354642602]\n",
            "Generation: 26 Best loss: 4.255661975249293\n",
            "Best loss: 3.686835906262047 with chromsome:  [3.060846371887982, 0.06439244314443648, 0.09633238682779877, 0.02018126354642602]\n",
            "Generation: 27 Best loss: 3.686835906262047\n",
            "Best loss: 3.686835906262047 with chromsome:  [3.060846371887982, 0.06439244314443648, 0.09633238682779877, 0.02018126354642602]\n",
            "Generation: 28 Best loss: 3.686835906262047\n",
            "Best loss: 3.686835906262047 with chromsome:  [3.060846371887982, 0.06439244314443648, 0.09633238682779877, 0.02018126354642602]\n",
            "Generation: 29 Best loss: 3.686835906262047\n",
            "Best loss: 3.649346710788775 with chromsome:  [2.9725642582957743, 0.06439244314443648, 0.09633238682779877, 0.02018126354642602]\n",
            "Generation: 30 Best loss: 3.649346710788775\n",
            "Best loss: 3.649346710788775 with chromsome:  [2.9725642582957743, 0.06439244314443648, 0.09633238682779877, 0.02018126354642602]\n",
            "Generation: 31 Best loss: 3.649346710788775\n",
            "Best loss: 3.649346710788775 with chromsome:  [2.9725642582957743, 0.06439244314443648, 0.09633238682779877, 0.02018126354642602]\n",
            "Generation: 32 Best loss: 3.649346710788775\n",
            "Best loss: 3.637348338139552 with chromsome:  [2.9320030251609532, 0.06439244314443648, 0.09633238682779877, 0.02018126354642602]\n",
            "Generation: 33 Best loss: 3.637348338139552\n",
            "Best loss: 3.637348338139552 with chromsome:  [2.9320030251609532, 0.06439244314443648, 0.09633238682779877, 0.02018126354642602]\n",
            "Generation: 34 Best loss: 3.637348338139552\n",
            "Best loss: 3.6228457336391244 with chromsome:  [2.8466312452827545, 0.06439244314443648, 0.09633238682779877, 0.02018126354642602]\n",
            "Generation: 35 Best loss: 3.6228457336391244\n",
            "Best loss: 3.6228457336391244 with chromsome:  [2.8466312452827545, 0.06439244314443648, 0.09633238682779877, 0.02018126354642602]\n",
            "Generation: 36 Best loss: 3.6228457336391244\n",
            "Best loss: 3.6226596301786818 with chromsome:  [2.7643900641494246, 0.06439244314443648, 0.09633238682779877, 0.02018126354642602]\n",
            "Generation: 37 Best loss: 3.6226596301786818\n",
            "Best loss: 3.6226596301786818 with chromsome:  [2.7643900641494246, 0.06439244314443648, 0.09633238682779877, 0.02018126354642602]\n",
            "Generation: 38 Best loss: 3.6226596301786818\n",
            "Best loss: 3.6226596301786818 with chromsome:  [2.7643900641494246, 0.06439244314443648, 0.09633238682779877, 0.02018126354642602]\n",
            "Generation: 39 Best loss: 3.6226596301786818\n",
            "Best loss: 3.6226596301786818 with chromsome:  [2.7643900641494246, 0.06439244314443648, 0.09633238682779877, 0.02018126354642602]\n",
            "Generation: 40 Best loss: 3.6226596301786818\n",
            "Best loss: 3.6226596301786818 with chromsome:  [2.7643900641494246, 0.06439244314443648, 0.09633238682779877, 0.02018126354642602]\n",
            "Generation: 41 Best loss: 3.6226596301786818\n",
            "Best loss: 3.6226596301786818 with chromsome:  [2.7643900641494246, 0.06439244314443648, 0.09633238682779877, 0.02018126354642602]\n",
            "Generation: 42 Best loss: 3.6226596301786818\n",
            "Best loss: 3.6226596301786818 with chromsome:  [2.7643900641494246, 0.06439244314443648, 0.09633238682779877, 0.02018126354642602]\n",
            "Generation: 43 Best loss: 3.6226596301786818\n",
            "Best loss: 3.6226596301786818 with chromsome:  [2.7643900641494246, 0.06439244314443648, 0.09633238682779877, 0.02018126354642602]\n",
            "Generation: 44 Best loss: 3.6226596301786818\n",
            "Best loss: 3.6226596301786818 with chromsome:  [2.7643900641494246, 0.06439244314443648, 0.09633238682779877, 0.02018126354642602]\n",
            "Generation: 45 Best loss: 3.6226596301786818\n",
            "Best loss: 3.6226596301786818 with chromsome:  [2.7643900641494246, 0.06439244314443648, 0.09633238682779877, 0.02018126354642602]\n",
            "Generation: 46 Best loss: 3.6226596301786818\n",
            "Best loss: 3.6226596301786818 with chromsome:  [2.7643900641494246, 0.06439244314443648, 0.09633238682779877, 0.02018126354642602]\n",
            "Generation: 47 Best loss: 3.6226596301786818\n",
            "Best loss: 3.6226596301786818 with chromsome:  [2.7643900641494246, 0.06439244314443648, 0.09633238682779877, 0.02018126354642602]\n",
            "Generation: 48 Best loss: 3.6226596301786818\n",
            "Best loss: 3.6226596301786818 with chromsome:  [2.7643900641494246, 0.06439244314443648, 0.09633238682779877, 0.02018126354642602]\n",
            "Generation: 49 Best loss: 3.6226596301786818\n",
            "Best loss: 3.6226596301786818 with chromsome:  [2.7643900641494246, 0.06439244314443648, 0.09633238682779877, 0.02018126354642602]\n",
            "Generation: 50 Best loss: 3.6226596301786818\n",
            "Best loss: 3.6226596301786818 with chromsome:  [2.7643900641494246, 0.06439244314443648, 0.09633238682779877, 0.02018126354642602]\n",
            "Generation: 51 Best loss: 3.6226596301786818\n",
            "Best loss: 3.6226596301786818 with chromsome:  [2.7643900641494246, 0.06439244314443648, 0.09633238682779877, 0.02018126354642602]\n",
            "Generation: 52 Best loss: 3.6226596301786818\n",
            "Best loss: 3.6226596301786818 with chromsome:  [2.7643900641494246, 0.06439244314443648, 0.09633238682779877, 0.02018126354642602]\n",
            "Generation: 53 Best loss: 3.6226596301786818\n",
            "Best loss: 3.6226596301786818 with chromsome:  [2.7643900641494246, 0.06439244314443648, 0.09633238682779877, 0.02018126354642602]\n",
            "Generation: 54 Best loss: 3.6226596301786818\n",
            "Best loss: 3.6226596301786818 with chromsome:  [2.7643900641494246, 0.06439244314443648, 0.09633238682779877, 0.02018126354642602]\n",
            "Generation: 55 Best loss: 3.6226596301786818\n",
            "Best loss: 3.6226596301786818 with chromsome:  [2.7643900641494246, 0.06439244314443648, 0.09633238682779877, 0.02018126354642602]\n",
            "Generation: 56 Best loss: 3.6226596301786818\n",
            "Best loss: 3.6226596301786818 with chromsome:  [2.7643900641494246, 0.06439244314443648, 0.09633238682779877, 0.02018126354642602]\n",
            "Generation: 57 Best loss: 3.6226596301786818\n",
            "Best loss: 3.6226596301786818 with chromsome:  [2.7643900641494246, 0.06439244314443648, 0.09633238682779877, 0.02018126354642602]\n",
            "Generation: 58 Best loss: 3.6226596301786818\n",
            "Best loss: 3.6226596301786818 with chromsome:  [2.7643900641494246, 0.06439244314443648, 0.09633238682779877, 0.02018126354642602]\n",
            "Generation: 59 Best loss: 3.6226596301786818\n",
            "Best loss: 3.6226596301786818 with chromsome:  [2.7643900641494246, 0.06439244314443648, 0.09633238682779877, 0.02018126354642602]\n",
            "Generation: 60 Best loss: 3.6226596301786818\n",
            "Best loss: 3.6226596301786818 with chromsome:  [2.7643900641494246, 0.06439244314443648, 0.09633238682779877, 0.02018126354642602]\n",
            "Generation: 61 Best loss: 3.6226596301786818\n",
            "Best loss: 3.6226596301786818 with chromsome:  [2.7643900641494246, 0.06439244314443648, 0.09633238682779877, 0.02018126354642602]\n",
            "Generation: 62 Best loss: 3.6226596301786818\n",
            "Best loss: 3.6226596301786818 with chromsome:  [2.7643900641494246, 0.06439244314443648, 0.09633238682779877, 0.02018126354642602]\n",
            "Generation: 63 Best loss: 3.6226596301786818\n",
            "Best loss: 3.6226596301786818 with chromsome:  [2.7643900641494246, 0.06439244314443648, 0.09633238682779877, 0.02018126354642602]\n",
            "Generation: 64 Best loss: 3.6226596301786818\n",
            "Best loss: 3.6226596301786818 with chromsome:  [2.7643900641494246, 0.06439244314443648, 0.09633238682779877, 0.02018126354642602]\n",
            "Generation: 65 Best loss: 3.6226596301786818\n",
            "Best loss: 3.5439133707340726 with chromsome:  [2.6127343390302338, 0.06439244314443648, 0.12462397612225673, 0.002169104539937461]\n",
            "Generation: 66 Best loss: 3.5439133707340726\n",
            "Best loss: 3.5439133707340726 with chromsome:  [2.6127343390302338, 0.06439244314443648, 0.12462397612225673, 0.002169104539937461]\n",
            "Generation: 67 Best loss: 3.5439133707340726\n",
            "Best loss: 3.5439133707340726 with chromsome:  [2.6127343390302338, 0.06439244314443648, 0.12462397612225673, 0.002169104539937461]\n",
            "Generation: 68 Best loss: 3.5439133707340726\n",
            "Best loss: 3.5439133707340726 with chromsome:  [2.6127343390302338, 0.06439244314443648, 0.12462397612225673, 0.002169104539937461]\n",
            "Generation: 69 Best loss: 3.5439133707340726\n",
            "Best loss: 3.5439133707340726 with chromsome:  [2.6127343390302338, 0.06439244314443648, 0.12462397612225673, 0.002169104539937461]\n",
            "Generation: 70 Best loss: 3.5439133707340726\n",
            "Best loss: 3.5439133707340726 with chromsome:  [2.6127343390302338, 0.06439244314443648, 0.12462397612225673, 0.002169104539937461]\n",
            "Generation: 71 Best loss: 3.5439133707340726\n",
            "Best loss: 3.5439133707340726 with chromsome:  [2.6127343390302338, 0.06439244314443648, 0.12462397612225673, 0.002169104539937461]\n",
            "Generation: 72 Best loss: 3.5439133707340726\n",
            "Best loss: 3.5439133707340726 with chromsome:  [2.6127343390302338, 0.06439244314443648, 0.12462397612225673, 0.002169104539937461]\n",
            "Generation: 73 Best loss: 3.5439133707340726\n",
            "Best loss: 3.5439133707340726 with chromsome:  [2.6127343390302338, 0.06439244314443648, 0.12462397612225673, 0.002169104539937461]\n",
            "Generation: 74 Best loss: 3.5439133707340726\n",
            "Best loss: 3.5439133707340726 with chromsome:  [2.6127343390302338, 0.06439244314443648, 0.12462397612225673, 0.002169104539937461]\n",
            "Generation: 75 Best loss: 3.5439133707340726\n",
            "Best loss: 3.5439133707340726 with chromsome:  [2.6127343390302338, 0.06439244314443648, 0.12462397612225673, 0.002169104539937461]\n",
            "Generation: 76 Best loss: 3.5439133707340726\n",
            "Best loss: 3.5439133707340726 with chromsome:  [2.6127343390302338, 0.06439244314443648, 0.12462397612225673, 0.002169104539937461]\n",
            "Generation: 77 Best loss: 3.5439133707340726\n",
            "Best loss: 3.5439133707340726 with chromsome:  [2.6127343390302338, 0.06439244314443648, 0.12462397612225673, 0.002169104539937461]\n",
            "Generation: 78 Best loss: 3.5439133707340726\n",
            "Best loss: 3.5439133707340726 with chromsome:  [2.6127343390302338, 0.06439244314443648, 0.12462397612225673, 0.002169104539937461]\n",
            "Generation: 79 Best loss: 3.5439133707340726\n",
            "Best loss: 3.5439133707340726 with chromsome:  [2.6127343390302338, 0.06439244314443648, 0.12462397612225673, 0.002169104539937461]\n",
            "Generation: 80 Best loss: 3.5439133707340726\n",
            "Best loss: 3.5439133707340726 with chromsome:  [2.6127343390302338, 0.06439244314443648, 0.12462397612225673, 0.002169104539937461]\n",
            "Generation: 81 Best loss: 3.5439133707340726\n",
            "Best loss: 3.5439133707340726 with chromsome:  [2.6127343390302338, 0.06439244314443648, 0.12462397612225673, 0.002169104539937461]\n",
            "Generation: 82 Best loss: 3.5439133707340726\n",
            "Best loss: 3.5439133707340726 with chromsome:  [2.6127343390302338, 0.06439244314443648, 0.12462397612225673, 0.002169104539937461]\n",
            "Generation: 83 Best loss: 3.5439133707340726\n",
            "Best loss: 3.5439133707340726 with chromsome:  [2.6127343390302338, 0.06439244314443648, 0.12462397612225673, 0.002169104539937461]\n",
            "Generation: 84 Best loss: 3.5439133707340726\n",
            "Best loss: 3.5439133707340726 with chromsome:  [2.6127343390302338, 0.06439244314443648, 0.12462397612225673, 0.002169104539937461]\n",
            "Generation: 85 Best loss: 3.5439133707340726\n",
            "Best loss: 3.5439133707340726 with chromsome:  [2.6127343390302338, 0.06439244314443648, 0.12462397612225673, 0.002169104539937461]\n",
            "Generation: 86 Best loss: 3.5439133707340726\n",
            "Best loss: 3.5439133707340726 with chromsome:  [2.6127343390302338, 0.06439244314443648, 0.12462397612225673, 0.002169104539937461]\n",
            "Generation: 87 Best loss: 3.5439133707340726\n",
            "Best loss: 3.5439133707340726 with chromsome:  [2.6127343390302338, 0.06439244314443648, 0.12462397612225673, 0.002169104539937461]\n",
            "Generation: 88 Best loss: 3.5439133707340726\n",
            "Best loss: 3.5439133707340726 with chromsome:  [2.6127343390302338, 0.06439244314443648, 0.12462397612225673, 0.002169104539937461]\n",
            "Generation: 89 Best loss: 3.5439133707340726\n",
            "Best loss: 3.5439133707340726 with chromsome:  [2.6127343390302338, 0.06439244314443648, 0.12462397612225673, 0.002169104539937461]\n",
            "Generation: 90 Best loss: 3.5439133707340726\n",
            "Best loss: 3.5439133707340726 with chromsome:  [2.6127343390302338, 0.06439244314443648, 0.12462397612225673, 0.002169104539937461]\n",
            "Generation: 91 Best loss: 3.5439133707340726\n",
            "Best loss: 3.5439133707340726 with chromsome:  [2.6127343390302338, 0.06439244314443648, 0.12462397612225673, 0.002169104539937461]\n",
            "Generation: 92 Best loss: 3.5439133707340726\n",
            "Best loss: 3.5439133707340726 with chromsome:  [2.6127343390302338, 0.06439244314443648, 0.12462397612225673, 0.002169104539937461]\n",
            "Generation: 93 Best loss: 3.5439133707340726\n",
            "Best loss: 3.5439133707340726 with chromsome:  [2.6127343390302338, 0.06439244314443648, 0.12462397612225673, 0.002169104539937461]\n",
            "Generation: 94 Best loss: 3.5439133707340726\n",
            "Best loss: 3.5439133707340726 with chromsome:  [2.6127343390302338, 0.06439244314443648, 0.12462397612225673, 0.002169104539937461]\n",
            "Generation: 95 Best loss: 3.5439133707340726\n",
            "Best loss: 3.5439133707340726 with chromsome:  [2.6127343390302338, 0.06439244314443648, 0.12462397612225673, 0.002169104539937461]\n",
            "Generation: 96 Best loss: 3.5439133707340726\n",
            "Best loss: 3.5439133707340726 with chromsome:  [2.6127343390302338, 0.06439244314443648, 0.12462397612225673, 0.002169104539937461]\n",
            "Generation: 97 Best loss: 3.5439133707340726\n",
            "Best loss: 3.5439133707340726 with chromsome:  [2.6127343390302338, 0.06439244314443648, 0.12462397612225673, 0.002169104539937461]\n",
            "Generation: 98 Best loss: 3.5439133707340726\n",
            "Best loss: 3.5439133707340726 with chromsome:  [2.6127343390302338, 0.06439244314443648, 0.12462397612225673, 0.002169104539937461]\n",
            "Generation: 99 Best loss: 3.5439133707340726\n"
          ]
        },
        {
          "output_type": "display_data",
          "data": {
            "text/plain": [
              "<Figure size 1000x600 with 1 Axes>"
            ],
            "image/png": "[encoded data removed]"
          },
          "metadata": {}
        }
      ]
    },
    {
      "cell_type": "markdown",
      "source": [
        "# Bài tập 11"
      ],
      "metadata": {
        "id": "MK7LwrBwVg4v"
      }
    },
    {
      "cell_type": "code",
      "source": [
        "def visualize_predict_gt():\n",
        "  # visualization of ground truth and predict value\n",
        "  sorted_population = sorted(population, key=compute_fitness)\n",
        "  print(sorted_population[-1])\n",
        "  theta = np.array(sorted_population[-1])\n",
        "  estimated_prices = []\n",
        "  for feature in features_X :\n",
        "    # ************* your code here *************\n",
        "    estimated_price = np.dot(feature, theta)\n",
        "    estimated_prices.append(estimated_price)\n",
        "\n",
        "  fig, ax = plt.subplots(figsize=(10, 6))\n",
        "  plt.xlabel('Samples')\n",
        "  plt.ylabel('Price')\n",
        "  plt.plot(sales_Y, c='green', label='Real Prices')\n",
        "  plt.plot(estimated_prices, c='blue', label ='Estimated Prices')\n",
        "  plt.legend()\n",
        "  plt.show()\n",
        "\n",
        "visualize_predict_gt ()"
      ],
      "metadata": {
        "id": "aQdN14E9ViAl",
        "colab": {
          "base_uri": "https://localhost:8080/",
          "height": 328
        },
        "outputId": "52e5a946-30b8-47e9-b681-075d60e64ee0"
      },
      "execution_count": null,
      "outputs": [
        {
          "output_type": "error",
          "ename": "NameError",
          "evalue": "name 'population' is not defined",
          "traceback": [
            "\u001b[0;31m---------------------------------------------------------------------------\u001b[0m",
            "\u001b[0;31mNameError\u001b[0m                                 Traceback (most recent call last)",
            "\u001b[0;32m<ipython-input-27-87ffb15be34a>\u001b[0m in \u001b[0;36m<cell line: 20>\u001b[0;34m()\u001b[0m\n\u001b[1;32m     18\u001b[0m   \u001b[0mplt\u001b[0m\u001b[0;34m.\u001b[0m\u001b[0mshow\u001b[0m\u001b[0;34m(\u001b[0m\u001b[0;34m)\u001b[0m\u001b[0;34m\u001b[0m\u001b[0;34m\u001b[0m\u001b[0m\n\u001b[1;32m     19\u001b[0m \u001b[0;34m\u001b[0m\u001b[0m\n\u001b[0;32m---> 20\u001b[0;31m \u001b[0mvisualize_predict_gt\u001b[0m \u001b[0;34m(\u001b[0m\u001b[0;34m)\u001b[0m\u001b[0;34m\u001b[0m\u001b[0;34m\u001b[0m\u001b[0m\n\u001b[0m",
            "\u001b[0;32m<ipython-input-27-87ffb15be34a>\u001b[0m in \u001b[0;36mvisualize_predict_gt\u001b[0;34m()\u001b[0m\n\u001b[1;32m      1\u001b[0m \u001b[0;32mdef\u001b[0m \u001b[0mvisualize_predict_gt\u001b[0m\u001b[0;34m(\u001b[0m\u001b[0;34m)\u001b[0m\u001b[0;34m:\u001b[0m\u001b[0;34m\u001b[0m\u001b[0;34m\u001b[0m\u001b[0m\n\u001b[1;32m      2\u001b[0m   \u001b[0;31m# visualization of ground truth and predict value\u001b[0m\u001b[0;34m\u001b[0m\u001b[0;34m\u001b[0m\u001b[0m\n\u001b[0;32m----> 3\u001b[0;31m   \u001b[0msorted_population\u001b[0m \u001b[0;34m=\u001b[0m \u001b[0msorted\u001b[0m\u001b[0;34m(\u001b[0m\u001b[0mpopulation\u001b[0m\u001b[0;34m,\u001b[0m \u001b[0mkey\u001b[0m\u001b[0;34m=\u001b[0m\u001b[0mcompute_fitness\u001b[0m\u001b[0;34m)\u001b[0m\u001b[0;34m\u001b[0m\u001b[0;34m\u001b[0m\u001b[0m\n\u001b[0m\u001b[1;32m      4\u001b[0m   \u001b[0mprint\u001b[0m\u001b[0;34m(\u001b[0m\u001b[0msorted_population\u001b[0m\u001b[0;34m[\u001b[0m\u001b[0;34m-\u001b[0m\u001b[0;36m1\u001b[0m\u001b[0;34m]\u001b[0m\u001b[0;34m)\u001b[0m\u001b[0;34m\u001b[0m\u001b[0;34m\u001b[0m\u001b[0m\n\u001b[1;32m      5\u001b[0m   \u001b[0mtheta\u001b[0m \u001b[0;34m=\u001b[0m \u001b[0mnp\u001b[0m\u001b[0;34m.\u001b[0m\u001b[0marray\u001b[0m\u001b[0;34m(\u001b[0m\u001b[0msorted_population\u001b[0m\u001b[0;34m[\u001b[0m\u001b[0;34m-\u001b[0m\u001b[0;36m1\u001b[0m\u001b[0;34m]\u001b[0m\u001b[0;34m)\u001b[0m\u001b[0;34m\u001b[0m\u001b[0;34m\u001b[0m\u001b[0m\n",
            "\u001b[0;31mNameError\u001b[0m: name 'population' is not defined"
          ]
        }
      ]
    },
    {
      "cell_type": "code",
      "source": [],
      "metadata": {
        "id": "CTYOCwJdx4Gb"
      },
      "execution_count": null,
      "outputs": []
    }
  ]
}